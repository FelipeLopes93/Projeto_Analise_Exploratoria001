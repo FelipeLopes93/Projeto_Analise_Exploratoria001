{
 "cells": [
  {
   "cell_type": "markdown",
   "metadata": {},
   "source": [
    "# Predicting Customer Default with Machine Learning"
   ]
  },
  {
   "cell_type": "code",
   "execution_count": 2,
   "metadata": {},
   "outputs": [
    {
     "name": "stdout",
     "output_type": "stream",
     "text": [
      "Python Language Version Used In This Jupyter Notebook: 3.8.3\n"
     ]
    }
   ],
   "source": [
    "# Python Language Version\n",
    "from platform import python_version\n",
    "print('Python Language Version Used In This Jupyter Notebook:', python_version())"
   ]
  },
  {
   "cell_type": "markdown",
   "metadata": {},
   "source": [
    "# Business Problem "
   ]
  },
  {
   "cell_type": "markdown",
   "metadata": {},
   "source": [
    "The billing industry has contacted you, Data Scientist, as it wants to predict which customers might not pay their credit card bill next month. The objective is to take proactive actions such as limiting purchases made with the card or not approving purchases above a certain limit.\n",
    "\n",
    "The collections sector has historical data on customers who paid or not the invoice in the previous months. Here is the (real) data source:\n",
    "\n",
    "https://archive.ics.uci.edu/ml/datasets/default+of+credit+card+clients\n",
    "\n",
    "Your job is to predict the default of credit card customers! And, for that, you must build and publish a Machine Learning model to carry out the predictions.\n"
   ]
  },
  {
   "cell_type": "code",
   "execution_count": 3,
   "metadata": {},
   "outputs": [],
   "source": [
    "# Imports\n",
    "import pandas as pd      \n",
    "import matplotlib as mat\n",
    "import matplotlib.pyplot as plt\n",
    "import seaborn as sns\n",
    "import numpy as np           \n",
    "\n",
    "import sklearn as sk\n",
    "from sklearn.model_selection import train_test_split\n",
    "\n",
    "%matplotlib inline            "
   ]
  },
  {
   "cell_type": "code",
   "execution_count": 4,
   "metadata": {},
   "outputs": [],
   "source": [
    "# Loagind a dataset\n",
    "df = pd.read_csv('dataset.csv')"
   ]
  },
  {
   "cell_type": "code",
   "execution_count": 5,
   "metadata": {},
   "outputs": [
    {
     "data": {
      "text/plain": [
       "(30000, 25)"
      ]
     },
     "execution_count": 5,
     "metadata": {},
     "output_type": "execute_result"
    }
   ],
   "source": [
    "# checking the data format\n",
    "df.shape"
   ]
  },
  {
   "cell_type": "code",
   "execution_count": 6,
   "metadata": {},
   "outputs": [
    {
     "data": {
      "text/html": [
       "<div>\n",
       "<style scoped>\n",
       "    .dataframe tbody tr th:only-of-type {\n",
       "        vertical-align: middle;\n",
       "    }\n",
       "\n",
       "    .dataframe tbody tr th {\n",
       "        vertical-align: top;\n",
       "    }\n",
       "\n",
       "    .dataframe thead th {\n",
       "        text-align: right;\n",
       "    }\n",
       "</style>\n",
       "<table border=\"1\" class=\"dataframe\">\n",
       "  <thead>\n",
       "    <tr style=\"text-align: right;\">\n",
       "      <th></th>\n",
       "      <th>ID</th>\n",
       "      <th>LIMIT_BAL</th>\n",
       "      <th>SEX</th>\n",
       "      <th>EDUCATION</th>\n",
       "      <th>MARRIAGE</th>\n",
       "      <th>AGE</th>\n",
       "      <th>PAY_0</th>\n",
       "      <th>PAY_2</th>\n",
       "      <th>PAY_3</th>\n",
       "      <th>PAY_4</th>\n",
       "      <th>...</th>\n",
       "      <th>BILL_AMT4</th>\n",
       "      <th>BILL_AMT5</th>\n",
       "      <th>BILL_AMT6</th>\n",
       "      <th>PAY_AMT1</th>\n",
       "      <th>PAY_AMT2</th>\n",
       "      <th>PAY_AMT3</th>\n",
       "      <th>PAY_AMT4</th>\n",
       "      <th>PAY_AMT5</th>\n",
       "      <th>PAY_AMT6</th>\n",
       "      <th>default payment next month</th>\n",
       "    </tr>\n",
       "  </thead>\n",
       "  <tbody>\n",
       "    <tr>\n",
       "      <th>0</th>\n",
       "      <td>1</td>\n",
       "      <td>20000</td>\n",
       "      <td>2</td>\n",
       "      <td>2</td>\n",
       "      <td>1</td>\n",
       "      <td>24</td>\n",
       "      <td>2</td>\n",
       "      <td>2</td>\n",
       "      <td>-1</td>\n",
       "      <td>-1</td>\n",
       "      <td>...</td>\n",
       "      <td>0</td>\n",
       "      <td>0</td>\n",
       "      <td>0</td>\n",
       "      <td>0</td>\n",
       "      <td>689</td>\n",
       "      <td>0</td>\n",
       "      <td>0</td>\n",
       "      <td>0</td>\n",
       "      <td>0</td>\n",
       "      <td>1</td>\n",
       "    </tr>\n",
       "    <tr>\n",
       "      <th>1</th>\n",
       "      <td>2</td>\n",
       "      <td>120000</td>\n",
       "      <td>2</td>\n",
       "      <td>2</td>\n",
       "      <td>2</td>\n",
       "      <td>26</td>\n",
       "      <td>-1</td>\n",
       "      <td>2</td>\n",
       "      <td>0</td>\n",
       "      <td>0</td>\n",
       "      <td>...</td>\n",
       "      <td>3272</td>\n",
       "      <td>3455</td>\n",
       "      <td>3261</td>\n",
       "      <td>0</td>\n",
       "      <td>1000</td>\n",
       "      <td>1000</td>\n",
       "      <td>1000</td>\n",
       "      <td>0</td>\n",
       "      <td>2000</td>\n",
       "      <td>1</td>\n",
       "    </tr>\n",
       "    <tr>\n",
       "      <th>2</th>\n",
       "      <td>3</td>\n",
       "      <td>90000</td>\n",
       "      <td>2</td>\n",
       "      <td>2</td>\n",
       "      <td>2</td>\n",
       "      <td>34</td>\n",
       "      <td>0</td>\n",
       "      <td>0</td>\n",
       "      <td>0</td>\n",
       "      <td>0</td>\n",
       "      <td>...</td>\n",
       "      <td>14331</td>\n",
       "      <td>14948</td>\n",
       "      <td>15549</td>\n",
       "      <td>1518</td>\n",
       "      <td>1500</td>\n",
       "      <td>1000</td>\n",
       "      <td>1000</td>\n",
       "      <td>1000</td>\n",
       "      <td>5000</td>\n",
       "      <td>0</td>\n",
       "    </tr>\n",
       "    <tr>\n",
       "      <th>3</th>\n",
       "      <td>4</td>\n",
       "      <td>50000</td>\n",
       "      <td>2</td>\n",
       "      <td>2</td>\n",
       "      <td>1</td>\n",
       "      <td>37</td>\n",
       "      <td>0</td>\n",
       "      <td>0</td>\n",
       "      <td>0</td>\n",
       "      <td>0</td>\n",
       "      <td>...</td>\n",
       "      <td>28314</td>\n",
       "      <td>28959</td>\n",
       "      <td>29547</td>\n",
       "      <td>2000</td>\n",
       "      <td>2019</td>\n",
       "      <td>1200</td>\n",
       "      <td>1100</td>\n",
       "      <td>1069</td>\n",
       "      <td>1000</td>\n",
       "      <td>0</td>\n",
       "    </tr>\n",
       "    <tr>\n",
       "      <th>4</th>\n",
       "      <td>5</td>\n",
       "      <td>50000</td>\n",
       "      <td>1</td>\n",
       "      <td>2</td>\n",
       "      <td>1</td>\n",
       "      <td>57</td>\n",
       "      <td>-1</td>\n",
       "      <td>0</td>\n",
       "      <td>-1</td>\n",
       "      <td>0</td>\n",
       "      <td>...</td>\n",
       "      <td>20940</td>\n",
       "      <td>19146</td>\n",
       "      <td>19131</td>\n",
       "      <td>2000</td>\n",
       "      <td>36681</td>\n",
       "      <td>10000</td>\n",
       "      <td>9000</td>\n",
       "      <td>689</td>\n",
       "      <td>679</td>\n",
       "      <td>0</td>\n",
       "    </tr>\n",
       "  </tbody>\n",
       "</table>\n",
       "<p>5 rows × 25 columns</p>\n",
       "</div>"
      ],
      "text/plain": [
       "   ID  LIMIT_BAL  SEX  EDUCATION  MARRIAGE  AGE  PAY_0  PAY_2  PAY_3  PAY_4  \\\n",
       "0   1      20000    2          2         1   24      2      2     -1     -1   \n",
       "1   2     120000    2          2         2   26     -1      2      0      0   \n",
       "2   3      90000    2          2         2   34      0      0      0      0   \n",
       "3   4      50000    2          2         1   37      0      0      0      0   \n",
       "4   5      50000    1          2         1   57     -1      0     -1      0   \n",
       "\n",
       "   ...  BILL_AMT4  BILL_AMT5  BILL_AMT6  PAY_AMT1  PAY_AMT2  PAY_AMT3  \\\n",
       "0  ...          0          0          0         0       689         0   \n",
       "1  ...       3272       3455       3261         0      1000      1000   \n",
       "2  ...      14331      14948      15549      1518      1500      1000   \n",
       "3  ...      28314      28959      29547      2000      2019      1200   \n",
       "4  ...      20940      19146      19131      2000     36681     10000   \n",
       "\n",
       "   PAY_AMT4  PAY_AMT5  PAY_AMT6  default payment next month  \n",
       "0         0         0         0                           1  \n",
       "1      1000         0      2000                           1  \n",
       "2      1000      1000      5000                           0  \n",
       "3      1100      1069      1000                           0  \n",
       "4      9000       689       679                           0  \n",
       "\n",
       "[5 rows x 25 columns]"
      ]
     },
     "execution_count": 6,
     "metadata": {},
     "output_type": "execute_result"
    }
   ],
   "source": [
    "# View\n",
    "df.head(5)"
   ]
  },
  {
   "cell_type": "markdown",
   "metadata": {},
   "source": [
    "## Data Cleaning and Transformation"
   ]
  },
  {
   "cell_type": "markdown",
   "metadata": {},
   "source": [
    "First, we need understand everything about the datas and how many modifications we need to do.\n",
    "It's extremely important check what coloumn want to say. Let's read a documentation of dataframe and what they saying for us:\n",
    "\n",
    "Attribute Information:\n",
    "\n",
    "    This research employed a binary variable, default payment (Yes = 1, No = 0), as the response variable. This study reviewed the literature and used the following 23 variables as explanatory variables:\n",
    "    X1: Amount of the given credit (NT dollar): it includes both the individual consumer credit and his/her family (supplementary) credit.\n",
    "    X2: Gender (1 = male; 2 = female).\n",
    "    X3: Education (1 = graduate school; 2 = university; 3 = high school; 4 = others).\n",
    "    X4: Marital status (1 = married; 2 = single; 3 = others).\n",
    "    X5: Age (year).\n",
    "    X6 - X11: History of past payment. We tracked the past monthly payment records (from April to September, 2005) as follows: X6 = the repayment status in September, 2005; X7 = the repayment status in August, 2005; . . .;X11 = the repayment status in April, 2005. The measurement scale for the repayment status is: -1 = pay duly; 1 = payment delay for one month; 2 = payment delay for two months; . . .; 8 = payment delay for eight months; 9 = payment delay for nine months and above.\n",
    "    X12-X17: Amount of bill statement (NT dollar). X12 = amount of bill statement in September, 2005; X13 = amount of bill statement in August, 2005; . . .; X17 = amount of bill statement in April, 2005.\n",
    "    X18-X23: Amount of previous payment (NT dollar). X18 = amount paid in September, 2005; X19 = amount paid in August, 2005; . . .;X23 = amount paid in April, 2005.\n",
    "\n",
    "After reading the data documentation, we can start making the necessary changes\n"
   ]
  },
  {
   "cell_type": "code",
   "execution_count": 7,
   "metadata": {},
   "outputs": [
    {
     "name": "stdout",
     "output_type": "stream",
     "text": [
      "<class 'pandas.core.frame.DataFrame'>\n",
      "RangeIndex: 30000 entries, 0 to 29999\n",
      "Data columns (total 25 columns):\n",
      " #   Column                      Non-Null Count  Dtype\n",
      "---  ------                      --------------  -----\n",
      " 0   ID                          30000 non-null  int64\n",
      " 1   LIMIT_BAL                   30000 non-null  int64\n",
      " 2   SEX                         30000 non-null  int64\n",
      " 3   EDUCATION                   30000 non-null  int64\n",
      " 4   MARRIAGE                    30000 non-null  int64\n",
      " 5   AGE                         30000 non-null  int64\n",
      " 6   PAY_0                       30000 non-null  int64\n",
      " 7   PAY_2                       30000 non-null  int64\n",
      " 8   PAY_3                       30000 non-null  int64\n",
      " 9   PAY_4                       30000 non-null  int64\n",
      " 10  PAY_5                       30000 non-null  int64\n",
      " 11  PAY_6                       30000 non-null  int64\n",
      " 12  BILL_AMT1                   30000 non-null  int64\n",
      " 13  BILL_AMT2                   30000 non-null  int64\n",
      " 14  BILL_AMT3                   30000 non-null  int64\n",
      " 15  BILL_AMT4                   30000 non-null  int64\n",
      " 16  BILL_AMT5                   30000 non-null  int64\n",
      " 17  BILL_AMT6                   30000 non-null  int64\n",
      " 18  PAY_AMT1                    30000 non-null  int64\n",
      " 19  PAY_AMT2                    30000 non-null  int64\n",
      " 20  PAY_AMT3                    30000 non-null  int64\n",
      " 21  PAY_AMT4                    30000 non-null  int64\n",
      " 22  PAY_AMT5                    30000 non-null  int64\n",
      " 23  PAY_AMT6                    30000 non-null  int64\n",
      " 24  default payment next month  30000 non-null  int64\n",
      "dtypes: int64(25)\n",
      "memory usage: 5.7 MB\n"
     ]
    }
   ],
   "source": [
    "# Checking ouverview of dataframe. Here we can to see the dataframe is basicle numbers, however, we can to transformed numbers in informations,\n",
    "# for exemplo, Sex and Education.\n",
    "df.info()"
   ]
  },
  {
   "cell_type": "code",
   "execution_count": 8,
   "metadata": {},
   "outputs": [
    {
     "data": {
      "text/html": [
       "<div>\n",
       "<style scoped>\n",
       "    .dataframe tbody tr th:only-of-type {\n",
       "        vertical-align: middle;\n",
       "    }\n",
       "\n",
       "    .dataframe tbody tr th {\n",
       "        vertical-align: top;\n",
       "    }\n",
       "\n",
       "    .dataframe thead th {\n",
       "        text-align: right;\n",
       "    }\n",
       "</style>\n",
       "<table border=\"1\" class=\"dataframe\">\n",
       "  <thead>\n",
       "    <tr style=\"text-align: right;\">\n",
       "      <th></th>\n",
       "      <th>ID</th>\n",
       "      <th>LIMIT_BAL</th>\n",
       "      <th>SEX</th>\n",
       "      <th>EDUCATION</th>\n",
       "      <th>MARRIAGE</th>\n",
       "      <th>AGE</th>\n",
       "      <th>PAY_0</th>\n",
       "      <th>PAY_2</th>\n",
       "      <th>PAY_3</th>\n",
       "      <th>PAY_4</th>\n",
       "      <th>...</th>\n",
       "      <th>BILL_AMT4</th>\n",
       "      <th>BILL_AMT5</th>\n",
       "      <th>BILL_AMT6</th>\n",
       "      <th>PAY_AMT1</th>\n",
       "      <th>PAY_AMT2</th>\n",
       "      <th>PAY_AMT3</th>\n",
       "      <th>PAY_AMT4</th>\n",
       "      <th>PAY_AMT5</th>\n",
       "      <th>PAY_AMT6</th>\n",
       "      <th>default payment next month</th>\n",
       "    </tr>\n",
       "  </thead>\n",
       "  <tbody>\n",
       "    <tr>\n",
       "      <th>count</th>\n",
       "      <td>30000.000000</td>\n",
       "      <td>30000.000000</td>\n",
       "      <td>30000.000000</td>\n",
       "      <td>30000.000000</td>\n",
       "      <td>30000.000000</td>\n",
       "      <td>30000.000000</td>\n",
       "      <td>30000.000000</td>\n",
       "      <td>30000.000000</td>\n",
       "      <td>30000.000000</td>\n",
       "      <td>30000.000000</td>\n",
       "      <td>...</td>\n",
       "      <td>30000.000000</td>\n",
       "      <td>30000.000000</td>\n",
       "      <td>30000.000000</td>\n",
       "      <td>30000.000000</td>\n",
       "      <td>3.000000e+04</td>\n",
       "      <td>30000.00000</td>\n",
       "      <td>30000.000000</td>\n",
       "      <td>30000.000000</td>\n",
       "      <td>30000.000000</td>\n",
       "      <td>30000.000000</td>\n",
       "    </tr>\n",
       "    <tr>\n",
       "      <th>mean</th>\n",
       "      <td>15000.500000</td>\n",
       "      <td>167484.322667</td>\n",
       "      <td>1.603733</td>\n",
       "      <td>1.853133</td>\n",
       "      <td>1.551867</td>\n",
       "      <td>35.485500</td>\n",
       "      <td>-0.016700</td>\n",
       "      <td>-0.133767</td>\n",
       "      <td>-0.166200</td>\n",
       "      <td>-0.220667</td>\n",
       "      <td>...</td>\n",
       "      <td>43262.948967</td>\n",
       "      <td>40311.400967</td>\n",
       "      <td>38871.760400</td>\n",
       "      <td>5663.580500</td>\n",
       "      <td>5.921163e+03</td>\n",
       "      <td>5225.68150</td>\n",
       "      <td>4826.076867</td>\n",
       "      <td>4799.387633</td>\n",
       "      <td>5215.502567</td>\n",
       "      <td>0.221200</td>\n",
       "    </tr>\n",
       "    <tr>\n",
       "      <th>std</th>\n",
       "      <td>8660.398374</td>\n",
       "      <td>129747.661567</td>\n",
       "      <td>0.489129</td>\n",
       "      <td>0.790349</td>\n",
       "      <td>0.521970</td>\n",
       "      <td>9.217904</td>\n",
       "      <td>1.123802</td>\n",
       "      <td>1.197186</td>\n",
       "      <td>1.196868</td>\n",
       "      <td>1.169139</td>\n",
       "      <td>...</td>\n",
       "      <td>64332.856134</td>\n",
       "      <td>60797.155770</td>\n",
       "      <td>59554.107537</td>\n",
       "      <td>16563.280354</td>\n",
       "      <td>2.304087e+04</td>\n",
       "      <td>17606.96147</td>\n",
       "      <td>15666.159744</td>\n",
       "      <td>15278.305679</td>\n",
       "      <td>17777.465775</td>\n",
       "      <td>0.415062</td>\n",
       "    </tr>\n",
       "    <tr>\n",
       "      <th>min</th>\n",
       "      <td>1.000000</td>\n",
       "      <td>10000.000000</td>\n",
       "      <td>1.000000</td>\n",
       "      <td>0.000000</td>\n",
       "      <td>0.000000</td>\n",
       "      <td>21.000000</td>\n",
       "      <td>-2.000000</td>\n",
       "      <td>-2.000000</td>\n",
       "      <td>-2.000000</td>\n",
       "      <td>-2.000000</td>\n",
       "      <td>...</td>\n",
       "      <td>-170000.000000</td>\n",
       "      <td>-81334.000000</td>\n",
       "      <td>-339603.000000</td>\n",
       "      <td>0.000000</td>\n",
       "      <td>0.000000e+00</td>\n",
       "      <td>0.00000</td>\n",
       "      <td>0.000000</td>\n",
       "      <td>0.000000</td>\n",
       "      <td>0.000000</td>\n",
       "      <td>0.000000</td>\n",
       "    </tr>\n",
       "    <tr>\n",
       "      <th>25%</th>\n",
       "      <td>7500.750000</td>\n",
       "      <td>50000.000000</td>\n",
       "      <td>1.000000</td>\n",
       "      <td>1.000000</td>\n",
       "      <td>1.000000</td>\n",
       "      <td>28.000000</td>\n",
       "      <td>-1.000000</td>\n",
       "      <td>-1.000000</td>\n",
       "      <td>-1.000000</td>\n",
       "      <td>-1.000000</td>\n",
       "      <td>...</td>\n",
       "      <td>2326.750000</td>\n",
       "      <td>1763.000000</td>\n",
       "      <td>1256.000000</td>\n",
       "      <td>1000.000000</td>\n",
       "      <td>8.330000e+02</td>\n",
       "      <td>390.00000</td>\n",
       "      <td>296.000000</td>\n",
       "      <td>252.500000</td>\n",
       "      <td>117.750000</td>\n",
       "      <td>0.000000</td>\n",
       "    </tr>\n",
       "    <tr>\n",
       "      <th>50%</th>\n",
       "      <td>15000.500000</td>\n",
       "      <td>140000.000000</td>\n",
       "      <td>2.000000</td>\n",
       "      <td>2.000000</td>\n",
       "      <td>2.000000</td>\n",
       "      <td>34.000000</td>\n",
       "      <td>0.000000</td>\n",
       "      <td>0.000000</td>\n",
       "      <td>0.000000</td>\n",
       "      <td>0.000000</td>\n",
       "      <td>...</td>\n",
       "      <td>19052.000000</td>\n",
       "      <td>18104.500000</td>\n",
       "      <td>17071.000000</td>\n",
       "      <td>2100.000000</td>\n",
       "      <td>2.009000e+03</td>\n",
       "      <td>1800.00000</td>\n",
       "      <td>1500.000000</td>\n",
       "      <td>1500.000000</td>\n",
       "      <td>1500.000000</td>\n",
       "      <td>0.000000</td>\n",
       "    </tr>\n",
       "    <tr>\n",
       "      <th>75%</th>\n",
       "      <td>22500.250000</td>\n",
       "      <td>240000.000000</td>\n",
       "      <td>2.000000</td>\n",
       "      <td>2.000000</td>\n",
       "      <td>2.000000</td>\n",
       "      <td>41.000000</td>\n",
       "      <td>0.000000</td>\n",
       "      <td>0.000000</td>\n",
       "      <td>0.000000</td>\n",
       "      <td>0.000000</td>\n",
       "      <td>...</td>\n",
       "      <td>54506.000000</td>\n",
       "      <td>50190.500000</td>\n",
       "      <td>49198.250000</td>\n",
       "      <td>5006.000000</td>\n",
       "      <td>5.000000e+03</td>\n",
       "      <td>4505.00000</td>\n",
       "      <td>4013.250000</td>\n",
       "      <td>4031.500000</td>\n",
       "      <td>4000.000000</td>\n",
       "      <td>0.000000</td>\n",
       "    </tr>\n",
       "    <tr>\n",
       "      <th>max</th>\n",
       "      <td>30000.000000</td>\n",
       "      <td>1000000.000000</td>\n",
       "      <td>2.000000</td>\n",
       "      <td>6.000000</td>\n",
       "      <td>3.000000</td>\n",
       "      <td>79.000000</td>\n",
       "      <td>8.000000</td>\n",
       "      <td>8.000000</td>\n",
       "      <td>8.000000</td>\n",
       "      <td>8.000000</td>\n",
       "      <td>...</td>\n",
       "      <td>891586.000000</td>\n",
       "      <td>927171.000000</td>\n",
       "      <td>961664.000000</td>\n",
       "      <td>873552.000000</td>\n",
       "      <td>1.684259e+06</td>\n",
       "      <td>896040.00000</td>\n",
       "      <td>621000.000000</td>\n",
       "      <td>426529.000000</td>\n",
       "      <td>528666.000000</td>\n",
       "      <td>1.000000</td>\n",
       "    </tr>\n",
       "  </tbody>\n",
       "</table>\n",
       "<p>8 rows × 25 columns</p>\n",
       "</div>"
      ],
      "text/plain": [
       "                 ID       LIMIT_BAL           SEX     EDUCATION      MARRIAGE  \\\n",
       "count  30000.000000    30000.000000  30000.000000  30000.000000  30000.000000   \n",
       "mean   15000.500000   167484.322667      1.603733      1.853133      1.551867   \n",
       "std     8660.398374   129747.661567      0.489129      0.790349      0.521970   \n",
       "min        1.000000    10000.000000      1.000000      0.000000      0.000000   \n",
       "25%     7500.750000    50000.000000      1.000000      1.000000      1.000000   \n",
       "50%    15000.500000   140000.000000      2.000000      2.000000      2.000000   \n",
       "75%    22500.250000   240000.000000      2.000000      2.000000      2.000000   \n",
       "max    30000.000000  1000000.000000      2.000000      6.000000      3.000000   \n",
       "\n",
       "                AGE         PAY_0         PAY_2         PAY_3         PAY_4  \\\n",
       "count  30000.000000  30000.000000  30000.000000  30000.000000  30000.000000   \n",
       "mean      35.485500     -0.016700     -0.133767     -0.166200     -0.220667   \n",
       "std        9.217904      1.123802      1.197186      1.196868      1.169139   \n",
       "min       21.000000     -2.000000     -2.000000     -2.000000     -2.000000   \n",
       "25%       28.000000     -1.000000     -1.000000     -1.000000     -1.000000   \n",
       "50%       34.000000      0.000000      0.000000      0.000000      0.000000   \n",
       "75%       41.000000      0.000000      0.000000      0.000000      0.000000   \n",
       "max       79.000000      8.000000      8.000000      8.000000      8.000000   \n",
       "\n",
       "       ...      BILL_AMT4      BILL_AMT5      BILL_AMT6       PAY_AMT1  \\\n",
       "count  ...   30000.000000   30000.000000   30000.000000   30000.000000   \n",
       "mean   ...   43262.948967   40311.400967   38871.760400    5663.580500   \n",
       "std    ...   64332.856134   60797.155770   59554.107537   16563.280354   \n",
       "min    ... -170000.000000  -81334.000000 -339603.000000       0.000000   \n",
       "25%    ...    2326.750000    1763.000000    1256.000000    1000.000000   \n",
       "50%    ...   19052.000000   18104.500000   17071.000000    2100.000000   \n",
       "75%    ...   54506.000000   50190.500000   49198.250000    5006.000000   \n",
       "max    ...  891586.000000  927171.000000  961664.000000  873552.000000   \n",
       "\n",
       "           PAY_AMT2      PAY_AMT3       PAY_AMT4       PAY_AMT5  \\\n",
       "count  3.000000e+04   30000.00000   30000.000000   30000.000000   \n",
       "mean   5.921163e+03    5225.68150    4826.076867    4799.387633   \n",
       "std    2.304087e+04   17606.96147   15666.159744   15278.305679   \n",
       "min    0.000000e+00       0.00000       0.000000       0.000000   \n",
       "25%    8.330000e+02     390.00000     296.000000     252.500000   \n",
       "50%    2.009000e+03    1800.00000    1500.000000    1500.000000   \n",
       "75%    5.000000e+03    4505.00000    4013.250000    4031.500000   \n",
       "max    1.684259e+06  896040.00000  621000.000000  426529.000000   \n",
       "\n",
       "            PAY_AMT6  default payment next month  \n",
       "count   30000.000000                30000.000000  \n",
       "mean     5215.502567                    0.221200  \n",
       "std     17777.465775                    0.415062  \n",
       "min         0.000000                    0.000000  \n",
       "25%       117.750000                    0.000000  \n",
       "50%      1500.000000                    0.000000  \n",
       "75%      4000.000000                    0.000000  \n",
       "max    528666.000000                    1.000000  \n",
       "\n",
       "[8 rows x 25 columns]"
      ]
     },
     "execution_count": 8,
     "metadata": {},
     "output_type": "execute_result"
    }
   ],
   "source": [
    "df.describe()"
   ]
  },
  {
   "cell_type": "code",
   "execution_count": 9,
   "metadata": {},
   "outputs": [
    {
     "data": {
      "text/plain": [
       "(30000, 25)"
      ]
     },
     "execution_count": 9,
     "metadata": {},
     "output_type": "execute_result"
    }
   ],
   "source": [
    "df2 = df.copy()\n",
    "\n",
    "# Transform ID values\n",
    "df2[\"ID\"] = df2[\"ID\"].astype(object)\n",
    "\n",
    "# Transform SEX values\n",
    "sex_map = {1:\"Male\", 2:\"Female\"}\n",
    "df2[\"SEX\"] = df2[\"SEX\"].map(sex_map)\n",
    "\n",
    "# Transform EDUCATION values\n",
    "education_map = {1:\"Graduate School\", 2 :\"University\", 3 : \"High School\", 4: \"Others\"}\n",
    "df2[\"EDUCATION\"] = df2[\"EDUCATION\"].map(education_map)\n",
    "\n",
    "# Transform MARRIAGE values\n",
    "marriage_map = {1 : \"Married\", 2: \"Single\", 3: \"Others\"}\n",
    "df2[\"MARRIAGE\"] = df2[\"MARRIAGE\"].map(marriage_map)\n",
    "\n",
    "# Clustering age\n",
    "bin = [0, 30, 50, 100]\n",
    "df2[\"AGE\"] = pd.cut(df2[\"AGE\"], bin,\n",
    "                   labels = [\"Young\", \"Adult\", \"Old\"])\n",
    "\n",
    "# Rename Column default payment next month\n",
    "df2.rename(columns={\"default payment next month\": \"DEFAULT\"}, inplace=True)\n",
    "\n",
    "default_map = {0: False, 1 : True, }\n",
    "df2[\"DEFAULT\"] = df2[\"DEFAULT\"].map(default_map)\n",
    "\n",
    "df2.shape"
   ]
  },
  {
   "cell_type": "markdown",
   "metadata": {},
   "source": [
    "\n",
    "# Exploratory Data Analysis"
   ]
  },
  {
   "cell_type": "code",
   "execution_count": 10,
   "metadata": {},
   "outputs": [
    {
     "data": {
      "image/png": "[encoded data removed]",
      "text/plain": [
       "<Figure size 720x360 with 1 Axes>"
      ]
     },
     "metadata": {
      "needs_background": "light"
     },
     "output_type": "display_data"
    },
    {
     "data": {
      "image/png": "[encoded data removed]",
      "text/plain": [
       "<Figure size 720x360 with 1 Axes>"
      ]
     },
     "metadata": {
      "needs_background": "light"
     },
     "output_type": "display_data"
    },
    {
     "data": {
      "image/png": "[encoded data removed]",
      "text/plain": [
       "<Figure size 720x360 with 1 Axes>"
      ]
     },
     "metadata": {
      "needs_background": "light"
     },
     "output_type": "display_data"
    },
    {
     "data": {
      "image/png": "[encoded data removed]",
      "text/plain": [
       "<Figure size 720x360 with 1 Axes>"
      ]
     },
     "metadata": {
      "needs_background": "light"
     },
     "output_type": "display_data"
    },
    {
     "data": {
      "image/png": "[encoded data removed]",
      "text/plain": [
       "<Figure size 720x360 with 1 Axes>"
      ]
     },
     "metadata": {
      "needs_background": "light"
     },
     "output_type": "display_data"
    }
   ],
   "source": [
    "#Now we can start the exploratory analysis of the date, in orde to understand the behavior of the data.\n",
    "\n",
    "# Distribution by sex\n",
    "fig, ax = plt.subplots(figsize=(10,5))\n",
    "ax = sns.countplot(df2[\"SEX\"])\n",
    "\n",
    "# Distribution by Education\n",
    "fig, ax = plt.subplots(figsize=(10,5))\n",
    "ax = sns.countplot(df2[\"EDUCATION\"])\n",
    "\n",
    "# Distribution by Marriage\n",
    "fig, ax = plt.subplots(figsize=(10,5))\n",
    "ax = sns.countplot(df2[\"MARRIAGE\"])\n",
    "\n",
    "# Distribution by Age\n",
    "fig, ax = plt.subplots(figsize=(10,5))\n",
    "ax = sns.countplot(df2[\"AGE\"])\n",
    "\n",
    "# Distribution by Default\n",
    "fig, ax = plt.subplots(figsize=(10,5))\n",
    "ax = sns.countplot(df2[\"DEFAULT\"])\n",
    "\n",
    "plt.show()"
   ]
  },
  {
   "cell_type": "code",
   "execution_count": 11,
   "metadata": {},
   "outputs": [
    {
     "data": {
      "text/plain": [
       "True"
      ]
     },
     "execution_count": 11,
     "metadata": {},
     "output_type": "execute_result"
    }
   ],
   "source": [
    "#Checking for null values\n",
    "df2.isnull().values.any()"
   ]
  },
  {
   "cell_type": "code",
   "execution_count": 12,
   "metadata": {},
   "outputs": [
    {
     "name": "stdout",
     "output_type": "stream",
     "text": [
      "<class 'pandas.core.frame.DataFrame'>\n",
      "RangeIndex: 30000 entries, 0 to 29999\n",
      "Data columns (total 25 columns):\n",
      " #   Column     Non-Null Count  Dtype   \n",
      "---  ------     --------------  -----   \n",
      " 0   ID         30000 non-null  object  \n",
      " 1   LIMIT_BAL  30000 non-null  int64   \n",
      " 2   SEX        30000 non-null  object  \n",
      " 3   EDUCATION  29655 non-null  object  \n",
      " 4   MARRIAGE   29946 non-null  object  \n",
      " 5   AGE        30000 non-null  category\n",
      " 6   PAY_0      30000 non-null  int64   \n",
      " 7   PAY_2      30000 non-null  int64   \n",
      " 8   PAY_3      30000 non-null  int64   \n",
      " 9   PAY_4      30000 non-null  int64   \n",
      " 10  PAY_5      30000 non-null  int64   \n",
      " 11  PAY_6      30000 non-null  int64   \n",
      " 12  BILL_AMT1  30000 non-null  int64   \n",
      " 13  BILL_AMT2  30000 non-null  int64   \n",
      " 14  BILL_AMT3  30000 non-null  int64   \n",
      " 15  BILL_AMT4  30000 non-null  int64   \n",
      " 16  BILL_AMT5  30000 non-null  int64   \n",
      " 17  BILL_AMT6  30000 non-null  int64   \n",
      " 18  PAY_AMT1   30000 non-null  int64   \n",
      " 19  PAY_AMT2   30000 non-null  int64   \n",
      " 20  PAY_AMT3   30000 non-null  int64   \n",
      " 21  PAY_AMT4   30000 non-null  int64   \n",
      " 22  PAY_AMT5   30000 non-null  int64   \n",
      " 23  PAY_AMT6   30000 non-null  int64   \n",
      " 24  DEFAULT    30000 non-null  bool    \n",
      "dtypes: bool(1), category(1), int64(19), object(4)\n",
      "memory usage: 5.3+ MB\n"
     ]
    }
   ],
   "source": [
    "df2.info()"
   ]
  },
  {
   "cell_type": "code",
   "execution_count": 13,
   "metadata": {},
   "outputs": [],
   "source": [
    "df2.dropna(inplace = True)"
   ]
  },
  {
   "cell_type": "code",
   "execution_count": 14,
   "metadata": {},
   "outputs": [
    {
     "name": "stdout",
     "output_type": "stream",
     "text": [
      "<class 'pandas.core.frame.DataFrame'>\n",
      "Int64Index: 29601 entries, 0 to 29999\n",
      "Data columns (total 25 columns):\n",
      " #   Column     Non-Null Count  Dtype   \n",
      "---  ------     --------------  -----   \n",
      " 0   ID         29601 non-null  object  \n",
      " 1   LIMIT_BAL  29601 non-null  int64   \n",
      " 2   SEX        29601 non-null  object  \n",
      " 3   EDUCATION  29601 non-null  object  \n",
      " 4   MARRIAGE   29601 non-null  object  \n",
      " 5   AGE        29601 non-null  category\n",
      " 6   PAY_0      29601 non-null  int64   \n",
      " 7   PAY_2      29601 non-null  int64   \n",
      " 8   PAY_3      29601 non-null  int64   \n",
      " 9   PAY_4      29601 non-null  int64   \n",
      " 10  PAY_5      29601 non-null  int64   \n",
      " 11  PAY_6      29601 non-null  int64   \n",
      " 12  BILL_AMT1  29601 non-null  int64   \n",
      " 13  BILL_AMT2  29601 non-null  int64   \n",
      " 14  BILL_AMT3  29601 non-null  int64   \n",
      " 15  BILL_AMT4  29601 non-null  int64   \n",
      " 16  BILL_AMT5  29601 non-null  int64   \n",
      " 17  BILL_AMT6  29601 non-null  int64   \n",
      " 18  PAY_AMT1   29601 non-null  int64   \n",
      " 19  PAY_AMT2   29601 non-null  int64   \n",
      " 20  PAY_AMT3   29601 non-null  int64   \n",
      " 21  PAY_AMT4   29601 non-null  int64   \n",
      " 22  PAY_AMT5   29601 non-null  int64   \n",
      " 23  PAY_AMT6   29601 non-null  int64   \n",
      " 24  DEFAULT    29601 non-null  bool    \n",
      "dtypes: bool(1), category(1), int64(19), object(4)\n",
      "memory usage: 5.5+ MB\n"
     ]
    }
   ],
   "source": [
    "df2.info()"
   ]
  },
  {
   "cell_type": "code",
   "execution_count": 15,
   "metadata": {},
   "outputs": [
    {
     "data": {
      "image/png": "[encoded data removed]",
      "text/plain": [
       "<Figure size 1080x1080 with 1 Axes>"
      ]
     },
     "metadata": {
      "needs_background": "light"
     },
     "output_type": "display_data"
    }
   ],
   "source": [
    "# Lets identify the correlation between variables\n",
    "# Correlation does not imply causality\n",
    "\n",
    "def plot_corr(df2, size=15):\n",
    "    corr = df2.corr()    \n",
    "    fig, ax = plt.subplots(figsize = (size, size))\n",
    "    ax.matshow(corr)  \n",
    "    plt.xticks(range(len(corr.columns)), corr.columns) \n",
    "    plt.yticks(range(len(corr.columns)), corr.columns)\n",
    "    \n",
    "# Creating the chart\n",
    "plot_corr(df2)"
   ]
  },
  {
   "cell_type": "code",
   "execution_count": 16,
   "metadata": {},
   "outputs": [
    {
     "data": {
      "text/html": [
       "<div>\n",
       "<style scoped>\n",
       "    .dataframe tbody tr th:only-of-type {\n",
       "        vertical-align: middle;\n",
       "    }\n",
       "\n",
       "    .dataframe tbody tr th {\n",
       "        vertical-align: top;\n",
       "    }\n",
       "\n",
       "    .dataframe thead th {\n",
       "        text-align: right;\n",
       "    }\n",
       "</style>\n",
       "<table border=\"1\" class=\"dataframe\">\n",
       "  <thead>\n",
       "    <tr style=\"text-align: right;\">\n",
       "      <th></th>\n",
       "      <th>LIMIT_BAL</th>\n",
       "      <th>PAY_0</th>\n",
       "      <th>PAY_2</th>\n",
       "      <th>PAY_3</th>\n",
       "      <th>PAY_4</th>\n",
       "      <th>PAY_5</th>\n",
       "      <th>PAY_6</th>\n",
       "      <th>BILL_AMT1</th>\n",
       "      <th>BILL_AMT2</th>\n",
       "      <th>BILL_AMT3</th>\n",
       "      <th>BILL_AMT4</th>\n",
       "      <th>BILL_AMT5</th>\n",
       "      <th>BILL_AMT6</th>\n",
       "      <th>PAY_AMT1</th>\n",
       "      <th>PAY_AMT2</th>\n",
       "      <th>PAY_AMT3</th>\n",
       "      <th>PAY_AMT4</th>\n",
       "      <th>PAY_AMT5</th>\n",
       "      <th>PAY_AMT6</th>\n",
       "      <th>DEFAULT</th>\n",
       "    </tr>\n",
       "  </thead>\n",
       "  <tbody>\n",
       "    <tr>\n",
       "      <th>LIMIT_BAL</th>\n",
       "      <td>1.000000</td>\n",
       "      <td>-0.272342</td>\n",
       "      <td>-0.297232</td>\n",
       "      <td>-0.287093</td>\n",
       "      <td>-0.268346</td>\n",
       "      <td>-0.250293</td>\n",
       "      <td>-0.236602</td>\n",
       "      <td>0.283695</td>\n",
       "      <td>0.276673</td>\n",
       "      <td>0.281738</td>\n",
       "      <td>0.293442</td>\n",
       "      <td>0.295316</td>\n",
       "      <td>0.289701</td>\n",
       "      <td>0.195666</td>\n",
       "      <td>0.177669</td>\n",
       "      <td>0.210523</td>\n",
       "      <td>0.203263</td>\n",
       "      <td>0.217251</td>\n",
       "      <td>0.219676</td>\n",
       "      <td>-0.154357</td>\n",
       "    </tr>\n",
       "    <tr>\n",
       "      <th>PAY_0</th>\n",
       "      <td>-0.272342</td>\n",
       "      <td>1.000000</td>\n",
       "      <td>0.671467</td>\n",
       "      <td>0.574096</td>\n",
       "      <td>0.538769</td>\n",
       "      <td>0.509642</td>\n",
       "      <td>0.474946</td>\n",
       "      <td>0.186889</td>\n",
       "      <td>0.189529</td>\n",
       "      <td>0.179442</td>\n",
       "      <td>0.178471</td>\n",
       "      <td>0.180078</td>\n",
       "      <td>0.176779</td>\n",
       "      <td>-0.080139</td>\n",
       "      <td>-0.070470</td>\n",
       "      <td>-0.070906</td>\n",
       "      <td>-0.064646</td>\n",
       "      <td>-0.059781</td>\n",
       "      <td>-0.059943</td>\n",
       "      <td>0.326343</td>\n",
       "    </tr>\n",
       "    <tr>\n",
       "      <th>PAY_2</th>\n",
       "      <td>-0.297232</td>\n",
       "      <td>0.671467</td>\n",
       "      <td>1.000000</td>\n",
       "      <td>0.766401</td>\n",
       "      <td>0.661683</td>\n",
       "      <td>0.622160</td>\n",
       "      <td>0.575186</td>\n",
       "      <td>0.235059</td>\n",
       "      <td>0.235378</td>\n",
       "      <td>0.224080</td>\n",
       "      <td>0.221834</td>\n",
       "      <td>0.220865</td>\n",
       "      <td>0.218719</td>\n",
       "      <td>-0.081117</td>\n",
       "      <td>-0.058920</td>\n",
       "      <td>-0.056205</td>\n",
       "      <td>-0.047609</td>\n",
       "      <td>-0.038284</td>\n",
       "      <td>-0.037216</td>\n",
       "      <td>0.264082</td>\n",
       "    </tr>\n",
       "    <tr>\n",
       "      <th>PAY_3</th>\n",
       "      <td>-0.287093</td>\n",
       "      <td>0.574096</td>\n",
       "      <td>0.766401</td>\n",
       "      <td>1.000000</td>\n",
       "      <td>0.777055</td>\n",
       "      <td>0.686441</td>\n",
       "      <td>0.632900</td>\n",
       "      <td>0.208543</td>\n",
       "      <td>0.237518</td>\n",
       "      <td>0.227529</td>\n",
       "      <td>0.227117</td>\n",
       "      <td>0.225016</td>\n",
       "      <td>0.222008</td>\n",
       "      <td>0.001454</td>\n",
       "      <td>-0.066883</td>\n",
       "      <td>-0.053357</td>\n",
       "      <td>-0.046522</td>\n",
       "      <td>-0.037099</td>\n",
       "      <td>-0.036647</td>\n",
       "      <td>0.235320</td>\n",
       "    </tr>\n",
       "    <tr>\n",
       "      <th>PAY_4</th>\n",
       "      <td>-0.268346</td>\n",
       "      <td>0.538769</td>\n",
       "      <td>0.661683</td>\n",
       "      <td>0.777055</td>\n",
       "      <td>1.000000</td>\n",
       "      <td>0.820086</td>\n",
       "      <td>0.716923</td>\n",
       "      <td>0.202717</td>\n",
       "      <td>0.225780</td>\n",
       "      <td>0.244948</td>\n",
       "      <td>0.245610</td>\n",
       "      <td>0.242532</td>\n",
       "      <td>0.238723</td>\n",
       "      <td>-0.009532</td>\n",
       "      <td>-0.002385</td>\n",
       "      <td>-0.069831</td>\n",
       "      <td>-0.044147</td>\n",
       "      <td>-0.034687</td>\n",
       "      <td>-0.027427</td>\n",
       "      <td>0.216446</td>\n",
       "    </tr>\n",
       "    <tr>\n",
       "      <th>PAY_5</th>\n",
       "      <td>-0.250293</td>\n",
       "      <td>0.509642</td>\n",
       "      <td>0.622160</td>\n",
       "      <td>0.686441</td>\n",
       "      <td>0.820086</td>\n",
       "      <td>1.000000</td>\n",
       "      <td>0.817037</td>\n",
       "      <td>0.206988</td>\n",
       "      <td>0.227130</td>\n",
       "      <td>0.243338</td>\n",
       "      <td>0.271428</td>\n",
       "      <td>0.269305</td>\n",
       "      <td>0.261904</td>\n",
       "      <td>-0.006167</td>\n",
       "      <td>-0.003237</td>\n",
       "      <td>0.008493</td>\n",
       "      <td>-0.059033</td>\n",
       "      <td>-0.034696</td>\n",
       "      <td>-0.023447</td>\n",
       "      <td>0.204642</td>\n",
       "    </tr>\n",
       "    <tr>\n",
       "      <th>PAY_6</th>\n",
       "      <td>-0.236602</td>\n",
       "      <td>0.474946</td>\n",
       "      <td>0.575186</td>\n",
       "      <td>0.632900</td>\n",
       "      <td>0.716923</td>\n",
       "      <td>0.817037</td>\n",
       "      <td>1.000000</td>\n",
       "      <td>0.207842</td>\n",
       "      <td>0.227363</td>\n",
       "      <td>0.241433</td>\n",
       "      <td>0.265869</td>\n",
       "      <td>0.290047</td>\n",
       "      <td>0.284121</td>\n",
       "      <td>-0.000799</td>\n",
       "      <td>-0.005094</td>\n",
       "      <td>0.005249</td>\n",
       "      <td>0.018306</td>\n",
       "      <td>-0.047846</td>\n",
       "      <td>-0.025939</td>\n",
       "      <td>0.187207</td>\n",
       "    </tr>\n",
       "    <tr>\n",
       "      <th>BILL_AMT1</th>\n",
       "      <td>0.283695</td>\n",
       "      <td>0.186889</td>\n",
       "      <td>0.235059</td>\n",
       "      <td>0.208543</td>\n",
       "      <td>0.202717</td>\n",
       "      <td>0.206988</td>\n",
       "      <td>0.207842</td>\n",
       "      <td>1.000000</td>\n",
       "      <td>0.951255</td>\n",
       "      <td>0.891886</td>\n",
       "      <td>0.861238</td>\n",
       "      <td>0.831406</td>\n",
       "      <td>0.804834</td>\n",
       "      <td>0.140489</td>\n",
       "      <td>0.098947</td>\n",
       "      <td>0.156813</td>\n",
       "      <td>0.157643</td>\n",
       "      <td>0.165041</td>\n",
       "      <td>0.175798</td>\n",
       "      <td>-0.019303</td>\n",
       "    </tr>\n",
       "    <tr>\n",
       "      <th>BILL_AMT2</th>\n",
       "      <td>0.276673</td>\n",
       "      <td>0.189529</td>\n",
       "      <td>0.235378</td>\n",
       "      <td>0.237518</td>\n",
       "      <td>0.225780</td>\n",
       "      <td>0.227130</td>\n",
       "      <td>0.227363</td>\n",
       "      <td>0.951255</td>\n",
       "      <td>1.000000</td>\n",
       "      <td>0.927801</td>\n",
       "      <td>0.893418</td>\n",
       "      <td>0.861465</td>\n",
       "      <td>0.833846</td>\n",
       "      <td>0.280903</td>\n",
       "      <td>0.100613</td>\n",
       "      <td>0.151052</td>\n",
       "      <td>0.146479</td>\n",
       "      <td>0.155457</td>\n",
       "      <td>0.170718</td>\n",
       "      <td>-0.013710</td>\n",
       "    </tr>\n",
       "    <tr>\n",
       "      <th>BILL_AMT3</th>\n",
       "      <td>0.281738</td>\n",
       "      <td>0.179442</td>\n",
       "      <td>0.224080</td>\n",
       "      <td>0.227529</td>\n",
       "      <td>0.244948</td>\n",
       "      <td>0.243338</td>\n",
       "      <td>0.241433</td>\n",
       "      <td>0.891886</td>\n",
       "      <td>0.927801</td>\n",
       "      <td>1.000000</td>\n",
       "      <td>0.925094</td>\n",
       "      <td>0.885669</td>\n",
       "      <td>0.855571</td>\n",
       "      <td>0.244564</td>\n",
       "      <td>0.318039</td>\n",
       "      <td>0.131112</td>\n",
       "      <td>0.142468</td>\n",
       "      <td>0.177549</td>\n",
       "      <td>0.179539</td>\n",
       "      <td>-0.013494</td>\n",
       "    </tr>\n",
       "    <tr>\n",
       "      <th>BILL_AMT4</th>\n",
       "      <td>0.293442</td>\n",
       "      <td>0.178471</td>\n",
       "      <td>0.221834</td>\n",
       "      <td>0.227117</td>\n",
       "      <td>0.245610</td>\n",
       "      <td>0.271428</td>\n",
       "      <td>0.265869</td>\n",
       "      <td>0.861238</td>\n",
       "      <td>0.893418</td>\n",
       "      <td>0.925094</td>\n",
       "      <td>1.000000</td>\n",
       "      <td>0.940458</td>\n",
       "      <td>0.902348</td>\n",
       "      <td>0.233241</td>\n",
       "      <td>0.208175</td>\n",
       "      <td>0.300270</td>\n",
       "      <td>0.129010</td>\n",
       "      <td>0.160036</td>\n",
       "      <td>0.175067</td>\n",
       "      <td>-0.009474</td>\n",
       "    </tr>\n",
       "    <tr>\n",
       "      <th>BILL_AMT5</th>\n",
       "      <td>0.295316</td>\n",
       "      <td>0.180078</td>\n",
       "      <td>0.220865</td>\n",
       "      <td>0.225016</td>\n",
       "      <td>0.242532</td>\n",
       "      <td>0.269305</td>\n",
       "      <td>0.290047</td>\n",
       "      <td>0.831406</td>\n",
       "      <td>0.861465</td>\n",
       "      <td>0.885669</td>\n",
       "      <td>0.940458</td>\n",
       "      <td>1.000000</td>\n",
       "      <td>0.947211</td>\n",
       "      <td>0.218717</td>\n",
       "      <td>0.181988</td>\n",
       "      <td>0.252535</td>\n",
       "      <td>0.293204</td>\n",
       "      <td>0.140896</td>\n",
       "      <td>0.162081</td>\n",
       "      <td>-0.006226</td>\n",
       "    </tr>\n",
       "    <tr>\n",
       "      <th>BILL_AMT6</th>\n",
       "      <td>0.289701</td>\n",
       "      <td>0.176779</td>\n",
       "      <td>0.218719</td>\n",
       "      <td>0.222008</td>\n",
       "      <td>0.238723</td>\n",
       "      <td>0.261904</td>\n",
       "      <td>0.284121</td>\n",
       "      <td>0.804834</td>\n",
       "      <td>0.833846</td>\n",
       "      <td>0.855571</td>\n",
       "      <td>0.902348</td>\n",
       "      <td>0.947211</td>\n",
       "      <td>1.000000</td>\n",
       "      <td>0.202036</td>\n",
       "      <td>0.173825</td>\n",
       "      <td>0.234608</td>\n",
       "      <td>0.250144</td>\n",
       "      <td>0.307504</td>\n",
       "      <td>0.115525</td>\n",
       "      <td>-0.005339</td>\n",
       "    </tr>\n",
       "    <tr>\n",
       "      <th>PAY_AMT1</th>\n",
       "      <td>0.195666</td>\n",
       "      <td>-0.080139</td>\n",
       "      <td>-0.081117</td>\n",
       "      <td>0.001454</td>\n",
       "      <td>-0.009532</td>\n",
       "      <td>-0.006167</td>\n",
       "      <td>-0.000799</td>\n",
       "      <td>0.140489</td>\n",
       "      <td>0.280903</td>\n",
       "      <td>0.244564</td>\n",
       "      <td>0.233241</td>\n",
       "      <td>0.218717</td>\n",
       "      <td>0.202036</td>\n",
       "      <td>1.000000</td>\n",
       "      <td>0.286741</td>\n",
       "      <td>0.253683</td>\n",
       "      <td>0.200094</td>\n",
       "      <td>0.149749</td>\n",
       "      <td>0.186283</td>\n",
       "      <td>-0.073881</td>\n",
       "    </tr>\n",
       "    <tr>\n",
       "      <th>PAY_AMT2</th>\n",
       "      <td>0.177669</td>\n",
       "      <td>-0.070470</td>\n",
       "      <td>-0.058920</td>\n",
       "      <td>-0.066883</td>\n",
       "      <td>-0.002385</td>\n",
       "      <td>-0.003237</td>\n",
       "      <td>-0.005094</td>\n",
       "      <td>0.098947</td>\n",
       "      <td>0.100613</td>\n",
       "      <td>0.318039</td>\n",
       "      <td>0.208175</td>\n",
       "      <td>0.181988</td>\n",
       "      <td>0.173825</td>\n",
       "      <td>0.286741</td>\n",
       "      <td>1.000000</td>\n",
       "      <td>0.246086</td>\n",
       "      <td>0.179612</td>\n",
       "      <td>0.182296</td>\n",
       "      <td>0.157779</td>\n",
       "      <td>-0.058307</td>\n",
       "    </tr>\n",
       "    <tr>\n",
       "      <th>PAY_AMT3</th>\n",
       "      <td>0.210523</td>\n",
       "      <td>-0.070906</td>\n",
       "      <td>-0.056205</td>\n",
       "      <td>-0.053357</td>\n",
       "      <td>-0.069831</td>\n",
       "      <td>0.008493</td>\n",
       "      <td>0.005249</td>\n",
       "      <td>0.156813</td>\n",
       "      <td>0.151052</td>\n",
       "      <td>0.131112</td>\n",
       "      <td>0.300270</td>\n",
       "      <td>0.252535</td>\n",
       "      <td>0.234608</td>\n",
       "      <td>0.253683</td>\n",
       "      <td>0.246086</td>\n",
       "      <td>1.000000</td>\n",
       "      <td>0.215711</td>\n",
       "      <td>0.160705</td>\n",
       "      <td>0.160548</td>\n",
       "      <td>-0.056288</td>\n",
       "    </tr>\n",
       "    <tr>\n",
       "      <th>PAY_AMT4</th>\n",
       "      <td>0.203263</td>\n",
       "      <td>-0.064646</td>\n",
       "      <td>-0.047609</td>\n",
       "      <td>-0.046522</td>\n",
       "      <td>-0.044147</td>\n",
       "      <td>-0.059033</td>\n",
       "      <td>0.018306</td>\n",
       "      <td>0.157643</td>\n",
       "      <td>0.146479</td>\n",
       "      <td>0.142468</td>\n",
       "      <td>0.129010</td>\n",
       "      <td>0.293204</td>\n",
       "      <td>0.250144</td>\n",
       "      <td>0.200094</td>\n",
       "      <td>0.179612</td>\n",
       "      <td>0.215711</td>\n",
       "      <td>1.000000</td>\n",
       "      <td>0.151510</td>\n",
       "      <td>0.157001</td>\n",
       "      <td>-0.057012</td>\n",
       "    </tr>\n",
       "    <tr>\n",
       "      <th>PAY_AMT5</th>\n",
       "      <td>0.217251</td>\n",
       "      <td>-0.059781</td>\n",
       "      <td>-0.038284</td>\n",
       "      <td>-0.037099</td>\n",
       "      <td>-0.034687</td>\n",
       "      <td>-0.034696</td>\n",
       "      <td>-0.047846</td>\n",
       "      <td>0.165041</td>\n",
       "      <td>0.155457</td>\n",
       "      <td>0.177549</td>\n",
       "      <td>0.160036</td>\n",
       "      <td>0.140896</td>\n",
       "      <td>0.307504</td>\n",
       "      <td>0.149749</td>\n",
       "      <td>0.182296</td>\n",
       "      <td>0.160705</td>\n",
       "      <td>0.151510</td>\n",
       "      <td>1.000000</td>\n",
       "      <td>0.154878</td>\n",
       "      <td>-0.056075</td>\n",
       "    </tr>\n",
       "    <tr>\n",
       "      <th>PAY_AMT6</th>\n",
       "      <td>0.219676</td>\n",
       "      <td>-0.059943</td>\n",
       "      <td>-0.037216</td>\n",
       "      <td>-0.036647</td>\n",
       "      <td>-0.027427</td>\n",
       "      <td>-0.023447</td>\n",
       "      <td>-0.025939</td>\n",
       "      <td>0.175798</td>\n",
       "      <td>0.170718</td>\n",
       "      <td>0.179539</td>\n",
       "      <td>0.175067</td>\n",
       "      <td>0.162081</td>\n",
       "      <td>0.115525</td>\n",
       "      <td>0.186283</td>\n",
       "      <td>0.157779</td>\n",
       "      <td>0.160548</td>\n",
       "      <td>0.157001</td>\n",
       "      <td>0.154878</td>\n",
       "      <td>1.000000</td>\n",
       "      <td>-0.053692</td>\n",
       "    </tr>\n",
       "    <tr>\n",
       "      <th>DEFAULT</th>\n",
       "      <td>-0.154357</td>\n",
       "      <td>0.326343</td>\n",
       "      <td>0.264082</td>\n",
       "      <td>0.235320</td>\n",
       "      <td>0.216446</td>\n",
       "      <td>0.204642</td>\n",
       "      <td>0.187207</td>\n",
       "      <td>-0.019303</td>\n",
       "      <td>-0.013710</td>\n",
       "      <td>-0.013494</td>\n",
       "      <td>-0.009474</td>\n",
       "      <td>-0.006226</td>\n",
       "      <td>-0.005339</td>\n",
       "      <td>-0.073881</td>\n",
       "      <td>-0.058307</td>\n",
       "      <td>-0.056288</td>\n",
       "      <td>-0.057012</td>\n",
       "      <td>-0.056075</td>\n",
       "      <td>-0.053692</td>\n",
       "      <td>1.000000</td>\n",
       "    </tr>\n",
       "  </tbody>\n",
       "</table>\n",
       "</div>"
      ],
      "text/plain": [
       "           LIMIT_BAL     PAY_0     PAY_2     PAY_3     PAY_4     PAY_5  \\\n",
       "LIMIT_BAL   1.000000 -0.272342 -0.297232 -0.287093 -0.268346 -0.250293   \n",
       "PAY_0      -0.272342  1.000000  0.671467  0.574096  0.538769  0.509642   \n",
       "PAY_2      -0.297232  0.671467  1.000000  0.766401  0.661683  0.622160   \n",
       "PAY_3      -0.287093  0.574096  0.766401  1.000000  0.777055  0.686441   \n",
       "PAY_4      -0.268346  0.538769  0.661683  0.777055  1.000000  0.820086   \n",
       "PAY_5      -0.250293  0.509642  0.622160  0.686441  0.820086  1.000000   \n",
       "PAY_6      -0.236602  0.474946  0.575186  0.632900  0.716923  0.817037   \n",
       "BILL_AMT1   0.283695  0.186889  0.235059  0.208543  0.202717  0.206988   \n",
       "BILL_AMT2   0.276673  0.189529  0.235378  0.237518  0.225780  0.227130   \n",
       "BILL_AMT3   0.281738  0.179442  0.224080  0.227529  0.244948  0.243338   \n",
       "BILL_AMT4   0.293442  0.178471  0.221834  0.227117  0.245610  0.271428   \n",
       "BILL_AMT5   0.295316  0.180078  0.220865  0.225016  0.242532  0.269305   \n",
       "BILL_AMT6   0.289701  0.176779  0.218719  0.222008  0.238723  0.261904   \n",
       "PAY_AMT1    0.195666 -0.080139 -0.081117  0.001454 -0.009532 -0.006167   \n",
       "PAY_AMT2    0.177669 -0.070470 -0.058920 -0.066883 -0.002385 -0.003237   \n",
       "PAY_AMT3    0.210523 -0.070906 -0.056205 -0.053357 -0.069831  0.008493   \n",
       "PAY_AMT4    0.203263 -0.064646 -0.047609 -0.046522 -0.044147 -0.059033   \n",
       "PAY_AMT5    0.217251 -0.059781 -0.038284 -0.037099 -0.034687 -0.034696   \n",
       "PAY_AMT6    0.219676 -0.059943 -0.037216 -0.036647 -0.027427 -0.023447   \n",
       "DEFAULT    -0.154357  0.326343  0.264082  0.235320  0.216446  0.204642   \n",
       "\n",
       "              PAY_6  BILL_AMT1  BILL_AMT2  BILL_AMT3  BILL_AMT4  BILL_AMT5  \\\n",
       "LIMIT_BAL -0.236602   0.283695   0.276673   0.281738   0.293442   0.295316   \n",
       "PAY_0      0.474946   0.186889   0.189529   0.179442   0.178471   0.180078   \n",
       "PAY_2      0.575186   0.235059   0.235378   0.224080   0.221834   0.220865   \n",
       "PAY_3      0.632900   0.208543   0.237518   0.227529   0.227117   0.225016   \n",
       "PAY_4      0.716923   0.202717   0.225780   0.244948   0.245610   0.242532   \n",
       "PAY_5      0.817037   0.206988   0.227130   0.243338   0.271428   0.269305   \n",
       "PAY_6      1.000000   0.207842   0.227363   0.241433   0.265869   0.290047   \n",
       "BILL_AMT1  0.207842   1.000000   0.951255   0.891886   0.861238   0.831406   \n",
       "BILL_AMT2  0.227363   0.951255   1.000000   0.927801   0.893418   0.861465   \n",
       "BILL_AMT3  0.241433   0.891886   0.927801   1.000000   0.925094   0.885669   \n",
       "BILL_AMT4  0.265869   0.861238   0.893418   0.925094   1.000000   0.940458   \n",
       "BILL_AMT5  0.290047   0.831406   0.861465   0.885669   0.940458   1.000000   \n",
       "BILL_AMT6  0.284121   0.804834   0.833846   0.855571   0.902348   0.947211   \n",
       "PAY_AMT1  -0.000799   0.140489   0.280903   0.244564   0.233241   0.218717   \n",
       "PAY_AMT2  -0.005094   0.098947   0.100613   0.318039   0.208175   0.181988   \n",
       "PAY_AMT3   0.005249   0.156813   0.151052   0.131112   0.300270   0.252535   \n",
       "PAY_AMT4   0.018306   0.157643   0.146479   0.142468   0.129010   0.293204   \n",
       "PAY_AMT5  -0.047846   0.165041   0.155457   0.177549   0.160036   0.140896   \n",
       "PAY_AMT6  -0.025939   0.175798   0.170718   0.179539   0.175067   0.162081   \n",
       "DEFAULT    0.187207  -0.019303  -0.013710  -0.013494  -0.009474  -0.006226   \n",
       "\n",
       "           BILL_AMT6  PAY_AMT1  PAY_AMT2  PAY_AMT3  PAY_AMT4  PAY_AMT5  \\\n",
       "LIMIT_BAL   0.289701  0.195666  0.177669  0.210523  0.203263  0.217251   \n",
       "PAY_0       0.176779 -0.080139 -0.070470 -0.070906 -0.064646 -0.059781   \n",
       "PAY_2       0.218719 -0.081117 -0.058920 -0.056205 -0.047609 -0.038284   \n",
       "PAY_3       0.222008  0.001454 -0.066883 -0.053357 -0.046522 -0.037099   \n",
       "PAY_4       0.238723 -0.009532 -0.002385 -0.069831 -0.044147 -0.034687   \n",
       "PAY_5       0.261904 -0.006167 -0.003237  0.008493 -0.059033 -0.034696   \n",
       "PAY_6       0.284121 -0.000799 -0.005094  0.005249  0.018306 -0.047846   \n",
       "BILL_AMT1   0.804834  0.140489  0.098947  0.156813  0.157643  0.165041   \n",
       "BILL_AMT2   0.833846  0.280903  0.100613  0.151052  0.146479  0.155457   \n",
       "BILL_AMT3   0.855571  0.244564  0.318039  0.131112  0.142468  0.177549   \n",
       "BILL_AMT4   0.902348  0.233241  0.208175  0.300270  0.129010  0.160036   \n",
       "BILL_AMT5   0.947211  0.218717  0.181988  0.252535  0.293204  0.140896   \n",
       "BILL_AMT6   1.000000  0.202036  0.173825  0.234608  0.250144  0.307504   \n",
       "PAY_AMT1    0.202036  1.000000  0.286741  0.253683  0.200094  0.149749   \n",
       "PAY_AMT2    0.173825  0.286741  1.000000  0.246086  0.179612  0.182296   \n",
       "PAY_AMT3    0.234608  0.253683  0.246086  1.000000  0.215711  0.160705   \n",
       "PAY_AMT4    0.250144  0.200094  0.179612  0.215711  1.000000  0.151510   \n",
       "PAY_AMT5    0.307504  0.149749  0.182296  0.160705  0.151510  1.000000   \n",
       "PAY_AMT6    0.115525  0.186283  0.157779  0.160548  0.157001  0.154878   \n",
       "DEFAULT    -0.005339 -0.073881 -0.058307 -0.056288 -0.057012 -0.056075   \n",
       "\n",
       "           PAY_AMT6   DEFAULT  \n",
       "LIMIT_BAL  0.219676 -0.154357  \n",
       "PAY_0     -0.059943  0.326343  \n",
       "PAY_2     -0.037216  0.264082  \n",
       "PAY_3     -0.036647  0.235320  \n",
       "PAY_4     -0.027427  0.216446  \n",
       "PAY_5     -0.023447  0.204642  \n",
       "PAY_6     -0.025939  0.187207  \n",
       "BILL_AMT1  0.175798 -0.019303  \n",
       "BILL_AMT2  0.170718 -0.013710  \n",
       "BILL_AMT3  0.179539 -0.013494  \n",
       "BILL_AMT4  0.175067 -0.009474  \n",
       "BILL_AMT5  0.162081 -0.006226  \n",
       "BILL_AMT6  0.115525 -0.005339  \n",
       "PAY_AMT1   0.186283 -0.073881  \n",
       "PAY_AMT2   0.157779 -0.058307  \n",
       "PAY_AMT3   0.160548 -0.056288  \n",
       "PAY_AMT4   0.157001 -0.057012  \n",
       "PAY_AMT5   0.154878 -0.056075  \n",
       "PAY_AMT6   1.000000 -0.053692  \n",
       "DEFAULT   -0.053692  1.000000  "
      ]
     },
     "execution_count": 16,
     "metadata": {},
     "output_type": "execute_result"
    }
   ],
   "source": [
    "df2.corr()"
   ]
  },
  {
   "cell_type": "markdown",
   "metadata": {},
   "source": [
    "## Spliting - Preparation of data for Machine Learnig models\n",
    "\n",
    "First, we will separat the data in 70% for training data and 30% for test data."
   ]
  },
  {
   "cell_type": "code",
   "execution_count": 17,
   "metadata": {},
   "outputs": [
    {
     "data": {
      "text/plain": [
       "(29601, 25)"
      ]
     },
     "execution_count": 17,
     "metadata": {},
     "output_type": "execute_result"
    }
   ],
   "source": [
    "df2.shape"
   ]
  },
  {
   "cell_type": "code",
   "execution_count": 18,
   "metadata": {},
   "outputs": [
    {
     "name": "stdout",
     "output_type": "stream",
     "text": [
      "Index(['ID', 'LIMIT_BAL', 'SEX', 'EDUCATION', 'MARRIAGE', 'AGE', 'PAY_0',\n",
      "       'PAY_2', 'PAY_3', 'PAY_4', 'PAY_5', 'PAY_6', 'BILL_AMT1', 'BILL_AMT2',\n",
      "       'BILL_AMT3', 'BILL_AMT4', 'BILL_AMT5', 'BILL_AMT6', 'PAY_AMT1',\n",
      "       'PAY_AMT2', 'PAY_AMT3', 'PAY_AMT4', 'PAY_AMT5', 'PAY_AMT6', 'DEFAULT'],\n",
      "      dtype='object')\n"
     ]
    }
   ],
   "source": [
    "print(df2.columns)"
   ]
  },
  {
   "cell_type": "code",
   "execution_count": 19,
   "metadata": {},
   "outputs": [],
   "source": [
    "# Feature Selecion\n",
    "attributes = ['PAY_0','PAY_2', 'PAY_3', 'PAY_4', 'PAY_5', 'PAY_6', 'BILL_AMT1', 'BILL_AMT2',\n",
    "       'BILL_AMT3', 'BILL_AMT4', 'BILL_AMT5', 'BILL_AMT6']\n",
    "\n",
    "# Variable to be forecast\n",
    "atrib_prev = [\"DEFAULT\"]"
   ]
  },
  {
   "cell_type": "code",
   "execution_count": 20,
   "metadata": {},
   "outputs": [],
   "source": [
    "# Creating objects\n",
    "X = df2[attributes].values\n",
    "Y = df2[atrib_prev].values"
   ]
  },
  {
   "cell_type": "code",
   "execution_count": 21,
   "metadata": {},
   "outputs": [
    {
     "data": {
      "text/plain": [
       "array([[    2,     2,    -1, ...,     0,     0,     0],\n",
       "       [   -1,     2,     0, ...,  3272,  3455,  3261],\n",
       "       [    0,     0,     0, ..., 14331, 14948, 15549],\n",
       "       ...,\n",
       "       [    4,     3,     2, ..., 20878, 20582, 19357],\n",
       "       [    1,    -1,     0, ..., 52774, 11855, 48944],\n",
       "       [    0,     0,     0, ..., 36535, 32428, 15313]], dtype=int64)"
      ]
     },
     "execution_count": 21,
     "metadata": {},
     "output_type": "execute_result"
    }
   ],
   "source": [
    "X"
   ]
  },
  {
   "cell_type": "code",
   "execution_count": 22,
   "metadata": {},
   "outputs": [
    {
     "data": {
      "text/plain": [
       "array([[ True],\n",
       "       [ True],\n",
       "       [False],\n",
       "       ...,\n",
       "       [ True],\n",
       "       [ True],\n",
       "       [ True]])"
      ]
     },
     "execution_count": 22,
     "metadata": {},
     "output_type": "execute_result"
    }
   ],
   "source": [
    "Y"
   ]
  },
  {
   "cell_type": "code",
   "execution_count": 23,
   "metadata": {},
   "outputs": [],
   "source": [
    "# Setting the split rate\n",
    "split_test_size = 0.30"
   ]
  },
  {
   "cell_type": "code",
   "execution_count": 24,
   "metadata": {},
   "outputs": [],
   "source": [
    "# Creating training and test data\n",
    "X_training, X_test, Y_training, Y_test = train_test_split(X, Y,test_size = split_test_size)"
   ]
  },
  {
   "cell_type": "code",
   "execution_count": 25,
   "metadata": {},
   "outputs": [
    {
     "name": "stdout",
     "output_type": "stream",
     "text": [
      "(20720, 12) (8881, 12) (20720, 1) (8881, 1)\n"
     ]
    }
   ],
   "source": [
    "print(X_training.shape, X_test.shape, Y_training.shape, Y_test.shape)"
   ]
  },
  {
   "cell_type": "code",
   "execution_count": 26,
   "metadata": {},
   "outputs": [
    {
     "name": "stdout",
     "output_type": "stream",
     "text": [
      "70.00% in the training data\n",
      "30.00% in the training data\n"
     ]
    }
   ],
   "source": [
    "# Print the results\n",
    "print(\"{0:0.2f}% in the training data\".format((len(X_training)/len(df2.index))*100))\n",
    "print(\"{0:0.2f}% in the training data\".format((len(X_test)/len(df2.index))*100))"
   ]
  },
  {
   "cell_type": "markdown",
   "metadata": {},
   "source": [
    "## Checking the split\n",
    "Let's see how data was separate"
   ]
  },
  {
   "cell_type": "code",
   "execution_count": 27,
   "metadata": {},
   "outputs": [
    {
     "name": "stdout",
     "output_type": "stream",
     "text": [
      "Original True : 6605 (22.31%)\n",
      "Original False : 22996 (76.65%)\n",
      "\n",
      "Training True : 4631 (22.35%)\n",
      "Training False : 16089 (77.65%)\n",
      "\n",
      "Test True : 1974 (22.23%)\n",
      "Test False : 6907 (77.77%)\n"
     ]
    }
   ],
   "source": [
    "print(\"Original True : {0} ({1:0.2f}%)\".format(len(df2.loc[df2['DEFAULT'] == 1]), \n",
    "                                               (len(df2.loc[df2['DEFAULT'] ==1])/len(df2.index) * 100)))\n",
    "\n",
    "print(\"Original False : {0} ({1:0.2f}%)\".format(len(df2.loc[df2['DEFAULT'] == 0]), \n",
    "                                               (len(df2.loc[df2['DEFAULT'] == 0])/len(df.index) * 100)))\n",
    "print(\"\")\n",
    "print(\"Training True : {0} ({1:0.2f}%)\".format(len(Y_training[Y_training[:] == 1]), \n",
    "                                               (len(Y_training[Y_training[:] == 1])/len(Y_training) * 100)))\n",
    "\n",
    "print(\"Training False : {0} ({1:0.2f}%)\".format(len(Y_training[Y_training[:] == 0]), \n",
    "                                               (len(Y_training[Y_training[:] == 0])/len(Y_training) * 100)))\n",
    "print(\"\")\n",
    "print(\"Test True : {0} ({1:0.2f}%)\".format(len(Y_test[Y_test[:] == 1]), \n",
    "                                               (len(Y_test[Y_test[:] == 1])/len(Y_test) * 100)))\n",
    "\n",
    "print(\"Test False : {0} ({1:0.2f}%)\".format(len(Y_test[Y_test[:] == 0]), \n",
    "                                               (len(Y_test[Y_test[:] == 0])/len(Y_test) * 100)))"
   ]
  },
  {
   "cell_type": "markdown",
   "metadata": {},
   "source": [
    "# Hadling Missing Data\n",
    "\n",
    "Now, we need to understand what kind a machine learning model we will used for this problem.\n",
    "\n",
    "But first, lets look if we have handling missing data.In this case, the zero (0) values ​​should be considered values ​​not found, because, in the documentation, we have 3 paramters: Pay in day, where, -1 is a payment in day and payment daley for n months, in other words, zero is not a option. In the paramters Bill_AMT and PAY_AMT its very dificult that the amount bill and amount payed is equal zero. So for those case, we will replance the values for the mean.\n",
    "\n"
   ]
  },
  {
   "cell_type": "code",
   "execution_count": 28,
   "metadata": {},
   "outputs": [
    {
     "data": {
      "text/plain": [
       "False"
      ]
     },
     "execution_count": 28,
     "metadata": {},
     "output_type": "execute_result"
    }
   ],
   "source": [
    "# Checking for null values\n",
    "df2.isnull().values.any()"
   ]
  },
  {
   "cell_type": "code",
   "execution_count": 29,
   "metadata": {},
   "outputs": [
    {
     "data": {
      "text/html": [
       "<div>\n",
       "<style scoped>\n",
       "    .dataframe tbody tr th:only-of-type {\n",
       "        vertical-align: middle;\n",
       "    }\n",
       "\n",
       "    .dataframe tbody tr th {\n",
       "        vertical-align: top;\n",
       "    }\n",
       "\n",
       "    .dataframe thead th {\n",
       "        text-align: right;\n",
       "    }\n",
       "</style>\n",
       "<table border=\"1\" class=\"dataframe\">\n",
       "  <thead>\n",
       "    <tr style=\"text-align: right;\">\n",
       "      <th></th>\n",
       "      <th>ID</th>\n",
       "      <th>LIMIT_BAL</th>\n",
       "      <th>SEX</th>\n",
       "      <th>EDUCATION</th>\n",
       "      <th>MARRIAGE</th>\n",
       "      <th>AGE</th>\n",
       "      <th>PAY_0</th>\n",
       "      <th>PAY_2</th>\n",
       "      <th>PAY_3</th>\n",
       "      <th>PAY_4</th>\n",
       "      <th>...</th>\n",
       "      <th>BILL_AMT4</th>\n",
       "      <th>BILL_AMT5</th>\n",
       "      <th>BILL_AMT6</th>\n",
       "      <th>PAY_AMT1</th>\n",
       "      <th>PAY_AMT2</th>\n",
       "      <th>PAY_AMT3</th>\n",
       "      <th>PAY_AMT4</th>\n",
       "      <th>PAY_AMT5</th>\n",
       "      <th>PAY_AMT6</th>\n",
       "      <th>DEFAULT</th>\n",
       "    </tr>\n",
       "  </thead>\n",
       "  <tbody>\n",
       "    <tr>\n",
       "      <th>0</th>\n",
       "      <td>1</td>\n",
       "      <td>20000</td>\n",
       "      <td>Female</td>\n",
       "      <td>University</td>\n",
       "      <td>Married</td>\n",
       "      <td>Young</td>\n",
       "      <td>2</td>\n",
       "      <td>2</td>\n",
       "      <td>-1</td>\n",
       "      <td>-1</td>\n",
       "      <td>...</td>\n",
       "      <td>0</td>\n",
       "      <td>0</td>\n",
       "      <td>0</td>\n",
       "      <td>0</td>\n",
       "      <td>689</td>\n",
       "      <td>0</td>\n",
       "      <td>0</td>\n",
       "      <td>0</td>\n",
       "      <td>0</td>\n",
       "      <td>True</td>\n",
       "    </tr>\n",
       "    <tr>\n",
       "      <th>1</th>\n",
       "      <td>2</td>\n",
       "      <td>120000</td>\n",
       "      <td>Female</td>\n",
       "      <td>University</td>\n",
       "      <td>Single</td>\n",
       "      <td>Young</td>\n",
       "      <td>-1</td>\n",
       "      <td>2</td>\n",
       "      <td>0</td>\n",
       "      <td>0</td>\n",
       "      <td>...</td>\n",
       "      <td>3272</td>\n",
       "      <td>3455</td>\n",
       "      <td>3261</td>\n",
       "      <td>0</td>\n",
       "      <td>1000</td>\n",
       "      <td>1000</td>\n",
       "      <td>1000</td>\n",
       "      <td>0</td>\n",
       "      <td>2000</td>\n",
       "      <td>True</td>\n",
       "    </tr>\n",
       "    <tr>\n",
       "      <th>2</th>\n",
       "      <td>3</td>\n",
       "      <td>90000</td>\n",
       "      <td>Female</td>\n",
       "      <td>University</td>\n",
       "      <td>Single</td>\n",
       "      <td>Adult</td>\n",
       "      <td>0</td>\n",
       "      <td>0</td>\n",
       "      <td>0</td>\n",
       "      <td>0</td>\n",
       "      <td>...</td>\n",
       "      <td>14331</td>\n",
       "      <td>14948</td>\n",
       "      <td>15549</td>\n",
       "      <td>1518</td>\n",
       "      <td>1500</td>\n",
       "      <td>1000</td>\n",
       "      <td>1000</td>\n",
       "      <td>1000</td>\n",
       "      <td>5000</td>\n",
       "      <td>False</td>\n",
       "    </tr>\n",
       "    <tr>\n",
       "      <th>3</th>\n",
       "      <td>4</td>\n",
       "      <td>50000</td>\n",
       "      <td>Female</td>\n",
       "      <td>University</td>\n",
       "      <td>Married</td>\n",
       "      <td>Adult</td>\n",
       "      <td>0</td>\n",
       "      <td>0</td>\n",
       "      <td>0</td>\n",
       "      <td>0</td>\n",
       "      <td>...</td>\n",
       "      <td>28314</td>\n",
       "      <td>28959</td>\n",
       "      <td>29547</td>\n",
       "      <td>2000</td>\n",
       "      <td>2019</td>\n",
       "      <td>1200</td>\n",
       "      <td>1100</td>\n",
       "      <td>1069</td>\n",
       "      <td>1000</td>\n",
       "      <td>False</td>\n",
       "    </tr>\n",
       "    <tr>\n",
       "      <th>4</th>\n",
       "      <td>5</td>\n",
       "      <td>50000</td>\n",
       "      <td>Male</td>\n",
       "      <td>University</td>\n",
       "      <td>Married</td>\n",
       "      <td>Old</td>\n",
       "      <td>-1</td>\n",
       "      <td>0</td>\n",
       "      <td>-1</td>\n",
       "      <td>0</td>\n",
       "      <td>...</td>\n",
       "      <td>20940</td>\n",
       "      <td>19146</td>\n",
       "      <td>19131</td>\n",
       "      <td>2000</td>\n",
       "      <td>36681</td>\n",
       "      <td>10000</td>\n",
       "      <td>9000</td>\n",
       "      <td>689</td>\n",
       "      <td>679</td>\n",
       "      <td>False</td>\n",
       "    </tr>\n",
       "  </tbody>\n",
       "</table>\n",
       "<p>5 rows × 25 columns</p>\n",
       "</div>"
      ],
      "text/plain": [
       "  ID  LIMIT_BAL     SEX   EDUCATION MARRIAGE    AGE  PAY_0  PAY_2  PAY_3  \\\n",
       "0  1      20000  Female  University  Married  Young      2      2     -1   \n",
       "1  2     120000  Female  University   Single  Young     -1      2      0   \n",
       "2  3      90000  Female  University   Single  Adult      0      0      0   \n",
       "3  4      50000  Female  University  Married  Adult      0      0      0   \n",
       "4  5      50000    Male  University  Married    Old     -1      0     -1   \n",
       "\n",
       "   PAY_4  ...  BILL_AMT4  BILL_AMT5  BILL_AMT6  PAY_AMT1  PAY_AMT2  PAY_AMT3  \\\n",
       "0     -1  ...          0          0          0         0       689         0   \n",
       "1      0  ...       3272       3455       3261         0      1000      1000   \n",
       "2      0  ...      14331      14948      15549      1518      1500      1000   \n",
       "3      0  ...      28314      28959      29547      2000      2019      1200   \n",
       "4      0  ...      20940      19146      19131      2000     36681     10000   \n",
       "\n",
       "   PAY_AMT4  PAY_AMT5  PAY_AMT6  DEFAULT  \n",
       "0         0         0         0     True  \n",
       "1      1000         0      2000     True  \n",
       "2      1000      1000      5000    False  \n",
       "3      1100      1069      1000    False  \n",
       "4      9000       689       679    False  \n",
       "\n",
       "[5 rows x 25 columns]"
      ]
     },
     "execution_count": 29,
     "metadata": {},
     "output_type": "execute_result"
    }
   ],
   "source": [
    "df2.head()"
   ]
  },
  {
   "cell_type": "code",
   "execution_count": 62,
   "metadata": {},
   "outputs": [
    {
     "name": "stdout",
     "output_type": "stream",
     "text": [
      "# Dataframe rows 29601\n",
      "# Missing lines PAY_0: 14499\n",
      "# Missing lines PAY_2: 15476\n",
      "# Missing lines PAY_3: 15518\n",
      "# Missing lines PAY_4: 16204\n",
      "# Missing lines PAY_5: 16684\n",
      "# Missing lines PAY_6: 16053\n"
     ]
    }
   ],
   "source": [
    "# How many zeros we have in database?\n",
    "\n",
    "print(\"# Dataframe rows {0}\".format(len(df2)))\n",
    "print(\"# Missing lines PAY_0: {0}\".format(len(df2.loc[df['PAY_0'] == 0])))\n",
    "print(\"# Missing lines PAY_2: {0}\".format(len(df2.loc[df['PAY_2'] == 0])))\n",
    "print(\"# Missing lines PAY_3: {0}\".format(len(df2.loc[df['PAY_3'] == 0])))\n",
    "print(\"# Missing lines PAY_4: {0}\".format(len(df2.loc[df['PAY_4'] == 0])))\n",
    "print(\"# Missing lines PAY_5: {0}\".format(len(df2.loc[df['PAY_5'] == 0])))\n",
    "print(\"# Missing lines PAY_6: {0}\".format(len(df2.loc[df['PAY_6'] == 0])))\n",
    "\n"
   ]
  },
  {
   "cell_type": "markdown",
   "metadata": {},
   "source": [
    "\n"
   ]
  },
  {
   "cell_type": "code",
   "execution_count": 31,
   "metadata": {},
   "outputs": [],
   "source": [
    "# Replacing the values ​​equal to zero by the average of the data\n",
    "from sklearn.impute import SimpleImputer\n",
    "\n",
    "# Create Object\n",
    "fill_0 = SimpleImputer(missing_values = 0, strategy = \"mean\")\n",
    "\n",
    "# Replacing the values equals zero for mean of the data\n",
    "X_training = fill_0.fit_transform(X_training)\n",
    "X_test = fill_0.fit_transform(X_test)"
   ]
  },
  {
   "cell_type": "code",
   "execution_count": 33,
   "metadata": {},
   "outputs": [
    {
     "name": "stdout",
     "output_type": "stream",
     "text": [
      "(20720, 12) (8881, 12) (20720, 1) (8881, 1)\n"
     ]
    }
   ],
   "source": [
    "print( X_training.shape, X_test.shape, Y_training.shape, Y_test.shape)"
   ]
  },
  {
   "cell_type": "markdown",
   "metadata": {},
   "source": [
    "### Naive Bayes Classifier\n",
    "A Naive Bayes classifier is a simple probabilistic classifier based on applying Bayes' theorem (from Bayesian statistics) with strong (naive) independence assumptions. A more descriptive term for the underlying probability model would be \"independent feature model\"\n",
    "\n"
   ]
  },
  {
   "cell_type": "code",
   "execution_count": 43,
   "metadata": {},
   "outputs": [],
   "source": [
    "# Using a Naive Bayes classifier\n",
    "from sklearn.naive_bayes import GaussianNB"
   ]
  },
  {
   "cell_type": "code",
   "execution_count": 44,
   "metadata": {},
   "outputs": [],
   "source": [
    "# Creating the predictive model\n",
    "model_v1 = GaussianNB()"
   ]
  },
  {
   "cell_type": "code",
   "execution_count": 45,
   "metadata": {},
   "outputs": [
    {
     "data": {
      "text/plain": [
       "GaussianNB()"
      ]
     },
     "execution_count": 45,
     "metadata": {},
     "output_type": "execute_result"
    }
   ],
   "source": [
    "#Training the model\n",
    "model_v1.fit(X_training, Y_training.ravel())"
   ]
  },
  {
   "cell_type": "code",
   "execution_count": 46,
   "metadata": {},
   "outputs": [],
   "source": [
    "# Checking model accuracy in training data\n",
    "\n",
    "from sklearn import metrics"
   ]
  },
  {
   "cell_type": "code",
   "execution_count": 47,
   "metadata": {},
   "outputs": [],
   "source": [
    "nb_predict_train = model_v1.predict(X_training)"
   ]
  },
  {
   "cell_type": "code",
   "execution_count": 48,
   "metadata": {},
   "outputs": [
    {
     "name": "stdout",
     "output_type": "stream",
     "text": [
      "Accuracy: 0.7808\n",
      "\n"
     ]
    }
   ],
   "source": [
    "print(\"Accuracy: {0:.4f}\".format(metrics.accuracy_score(Y_training, nb_predict_train)))\n",
    "print()"
   ]
  },
  {
   "cell_type": "code",
   "execution_count": 49,
   "metadata": {},
   "outputs": [],
   "source": [
    "# Checking model accuracy in test data\n",
    "nb_predict_test = model_v1.predict(X_test)"
   ]
  },
  {
   "cell_type": "code",
   "execution_count": 50,
   "metadata": {},
   "outputs": [
    {
     "name": "stdout",
     "output_type": "stream",
     "text": [
      "Accuracy Naive Bayes: 0.7790\n",
      "\n"
     ]
    }
   ],
   "source": [
    "print( \"Accuracy Naive Bayes: {0:.4f}\".format(metrics.accuracy_score(Y_test, nb_predict_test)))\n",
    "print()"
   ]
  },
  {
   "cell_type": "code",
   "execution_count": 51,
   "metadata": {},
   "outputs": [
    {
     "name": "stdout",
     "output_type": "stream",
     "text": [
      "Confusuion Matrix\n",
      "[[ 139 1835]\n",
      " [ 128 6779]]\n",
      "\n",
      "Classification Report\n",
      "              precision    recall  f1-score   support\n",
      "\n",
      "           1       0.52      0.07      0.12      1974\n",
      "           0       0.79      0.98      0.87      6907\n",
      "\n",
      "    accuracy                           0.78      8881\n",
      "   macro avg       0.65      0.53      0.50      8881\n",
      "weighted avg       0.73      0.78      0.71      8881\n",
      "\n"
     ]
    }
   ],
   "source": [
    "print(\"Confusuion Matrix\")\n",
    "\n",
    "print(\"{0}\".format(metrics.confusion_matrix(Y_test, nb_predict_test, labels = [1, 0])))\n",
    "print(\"\")\n",
    "\n",
    "print(\"Classification Report\")\n",
    "print(metrics.classification_report(Y_test, nb_predict_test, labels = [1, 0]))\n"
   ]
  },
  {
   "cell_type": "markdown",
   "metadata": {},
   "source": [
    "### Random Forest Classifier.\n",
    "\n",
    "A random forest is a meta estimator that fits a number of decision tree classifiers on various sub-samples of the dataset and uses averaging to improve the predictive accuracy and control over-fitting. The sub-sample size is controlled with the max_samples parameter if bootstrap=True (default), otherwise the whole dataset is used to build each tree.\n",
    "\n"
   ]
  },
  {
   "cell_type": "code",
   "execution_count": 52,
   "metadata": {},
   "outputs": [],
   "source": [
    "from sklearn.ensemble import RandomForestClassifier"
   ]
  },
  {
   "cell_type": "code",
   "execution_count": 63,
   "metadata": {},
   "outputs": [
    {
     "data": {
      "text/plain": [
       "RandomForestClassifier()"
      ]
     },
     "execution_count": 63,
     "metadata": {},
     "output_type": "execute_result"
    }
   ],
   "source": [
    "# Model Training\n",
    "model_v2 = RandomForestClassifier()\n",
    "model_v2.fit(X_training, Y_training.ravel())"
   ]
  },
  {
   "cell_type": "code",
   "execution_count": 64,
   "metadata": {},
   "outputs": [
    {
     "name": "stdout",
     "output_type": "stream",
     "text": [
      "Accurary Random Forest:0.8121 \n"
     ]
    }
   ],
   "source": [
    "# Checking the test Data\n",
    "rf_predict_test = model_v2.predict(X_test)\n",
    "print(\"Accurary Random Forest:{0:.4f} \".format(metrics.accuracy_score(Y_test, rf_predict_test)))"
   ]
  },
  {
   "cell_type": "code",
   "execution_count": 65,
   "metadata": {},
   "outputs": [
    {
     "name": "stdout",
     "output_type": "stream",
     "text": [
      "Confusion Matrix\n",
      "[[ 701 1273]\n",
      " [ 396 6511]]\n",
      "\n",
      "Classification Report\n",
      "              precision    recall  f1-score   support\n",
      "\n",
      "           1       0.64      0.36      0.46      1974\n",
      "           0       0.84      0.94      0.89      6907\n",
      "\n",
      "    accuracy                           0.81      8881\n",
      "   macro avg       0.74      0.65      0.67      8881\n",
      "weighted avg       0.79      0.81      0.79      8881\n",
      "\n"
     ]
    }
   ],
   "source": [
    "print(\"Confusion Matrix\")\n",
    "\n",
    "print(\"{0}\".format(metrics.confusion_matrix(Y_test, rf_predict_test, labels = [1, 0])))\n",
    "print(\"\")\n",
    "\n",
    "print(\"Classification Report\")\n",
    "print(metrics.classification_report(Y_test, rf_predict_test, labels = [1, 0]))"
   ]
  },
  {
   "cell_type": "markdown",
   "metadata": {},
   "source": [
    "### Logistic Regression\n",
    "\n",
    "In statistics, the logistic model (or logit model) is used to model the probability of a certain class or event existing such as pass/fail, win/lose, alive/dead or healthy/sick. This can be extended to model several classes of events such as determining whether an image contains a cat, dog, lion, etc. Each object being detected in the image would be assigned a probability between 0 and 1, with a sum of one."
   ]
  },
  {
   "cell_type": "code",
   "execution_count": 66,
   "metadata": {},
   "outputs": [],
   "source": [
    "from sklearn.linear_model import LogisticRegression"
   ]
  },
  {
   "cell_type": "code",
   "execution_count": 68,
   "metadata": {},
   "outputs": [],
   "source": [
    "# Third version of the model using Logistic Regression\n",
    "model_v3 = LogisticRegression(C = 0.7, random_state = 42, max_iter = 1000)\n",
    "model_v3.fit(X_training, Y_training.ravel())\n",
    "lr_predict_test = model_v3.predict (X_test)"
   ]
  },
  {
   "cell_type": "code",
   "execution_count": 71,
   "metadata": {},
   "outputs": [
    {
     "name": "stdout",
     "output_type": "stream",
     "text": [
      "Accuracy Logistc Regression: 0.7713\n",
      "\n",
      "Classification Report\n",
      "              precision    recall  f1-score   support\n",
      "\n",
      "           1       0.23      0.01      0.02      1974\n",
      "           0       0.78      0.99      0.87      6907\n",
      "\n",
      "    accuracy                           0.77      8881\n",
      "   macro avg       0.51      0.50      0.45      8881\n",
      "weighted avg       0.66      0.77      0.68      8881\n",
      "\n"
     ]
    }
   ],
   "source": [
    "print(\"Accuracy Logistc Regression: {0:.4f}\".format(metrics.accuracy_score(Y_test, lr_predict_test)))\n",
    "print()\n",
    "print(\"Classification Report\")\n",
    "print(metrics.classification_report(Y_test, lr_predict_test,labels = [1, 0]))"
   ]
  },
  {
   "cell_type": "code",
   "execution_count": 72,
   "metadata": {},
   "outputs": [
    {
     "name": "stdout",
     "output_type": "stream",
     "text": [
      "Accuracy Naive Bayes: 0.7790\n",
      "Accurary Random Forest:0.8121 \n",
      "Accuracy Logistc Regression: 0.7713\n"
     ]
    }
   ],
   "source": [
    "# Accuracy in test data\n",
    "print( \"Accuracy Naive Bayes: {0:.4f}\".format(metrics.accuracy_score(Y_test, nb_predict_test)))\n",
    "print(\"Accurary Random Forest:{0:.4f} \".format(metrics.accuracy_score(Y_test, rf_predict_test)))\n",
    "print(\"Accuracy Logistc Regression: {0:.4f}\".format(metrics.accuracy_score(Y_test, lr_predict_test)))"
   ]
  }
 ],
 "metadata": {
  "kernelspec": {
   "display_name": "Python 3",
   "language": "python",
   "name": "python3"
  },
  "language_info": {
   "codemirror_mode": {
    "name": "ipython",
    "version": 3
   },
   "file_extension": ".py",
   "mimetype": "text/x-python",
   "name": "python",
   "nbconvert_exporter": "python",
   "pygments_lexer": "ipython3",
   "version": "3.8.3"
  }
 },
 "nbformat": 4,
 "nbformat_minor": 4
}
