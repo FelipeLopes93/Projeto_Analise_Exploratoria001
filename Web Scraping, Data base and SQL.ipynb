{
 "cells": [
  {
   "cell_type": "markdown",
   "metadata": {},
   "source": [
    "<strong><b><font size=\"5\">Web Scraping, Data base and SQL </font></b></strong>"
   ]
  },
  {
   "cell_type": "markdown",
   "metadata": {},
   "source": [
    "## Problem Definition\n",
    "\n",
    "When extracting data from web sites we are extracting unstructured data, which makes any type of analysis difficult.\n",
    "In this Lab, we will extract data from a web page, format it in xml and store it in a structured database. Once the data is stored, we will use the SQL Language for data manipulation and analysis.\n",
    "\n",
    "As our ultimate goal is analysis and not storage, we will create the database in the computer's memory, available only at run time. No data will be stored on disk. This is a fast, efficient and professional way to analyze data extracted from web sites without the need for a storage pipeline.\n",
    "\n",
    "\n"
   ]
  },
  {
   "cell_type": "markdown",
   "metadata": {},
   "source": [
    "## Data Source\n",
    "\n",
    "Our data source will be the website https://www.worldwildlife.org. Browse the page: https://www.worldwildlife.org/species/directory View the source code and understand the data that will be extracted from the 3 columns with information about animals."
   ]
  },
  {
   "cell_type": "markdown",
   "metadata": {},
   "source": [
    "## Loading the Used Packages on This Jupyter Notebook"
   ]
  },
  {
   "cell_type": "code",
   "execution_count": 1,
   "metadata": {},
   "outputs": [
    {
     "name": "stdout",
     "output_type": "stream",
     "text": [
      "Python Language Version Used In This Jupyter Notebook: 3.8.3\n"
     ]
    }
   ],
   "source": [
    "# Python Language Version\n",
    "from platform import python_version\n",
    "print('Python Language Version Used In This Jupyter Notebook:', python_version())"
   ]
  },
  {
   "cell_type": "code",
   "execution_count": 2,
   "metadata": {},
   "outputs": [],
   "source": [
    "# Imports\n",
    "import sqlite3\n",
    "import requests\n",
    "import lxml.html\n",
    "import numpy as np\n",
    "import pandas as pd"
   ]
  },
  {
   "cell_type": "markdown",
   "metadata": {},
   "source": [
    "## Web Scraping"
   ]
  },
  {
   "cell_type": "code",
   "execution_count": 3,
   "metadata": {},
   "outputs": [],
   "source": [
    "# Creates page request variable\n",
    "request_web = requests.get(\"https://www.worldwildlife.org/species/directory\")"
   ]
  },
  {
   "cell_type": "code",
   "execution_count": 4,
   "metadata": {},
   "outputs": [
    {
     "data": {
      "text/plain": [
       "<Response [200]>"
      ]
     },
     "execution_count": 4,
     "metadata": {},
     "output_type": "execute_result"
    }
   ],
   "source": [
    "# Displays the response (200 indicates Ok connection response)\n",
    "request_web"
   ]
  },
  {
   "cell_type": "code",
   "execution_count": 5,
   "metadata": {},
   "outputs": [],
   "source": [
    "# We will extract the HTML code from the page and convert it to xml for easy manipulation and formatting\n",
    "html_to_xml = lxml.html.fromstring(request_web.text)"
   ]
  },
  {
   "cell_type": "code",
   "execution_count": 6,
   "metadata": {},
   "outputs": [
    {
     "data": {
      "text/plain": [
       "<Element html at 0x18014ea1f40>"
      ]
     },
     "execution_count": 6,
     "metadata": {},
     "output_type": "execute_result"
    }
   ],
   "source": [
    "# View\n",
    "html_to_xml"
   ]
  },
  {
   "cell_type": "markdown",
   "metadata": {},
   "source": [
    "The site has a table, with ** <thead> ** and ** <tbody> **, both with ** <tr> **, and this code will extract all rows from the table at once:"
   ]
  },
  {
   "cell_type": "code",
   "execution_count": 7,
   "metadata": {
    "scrolled": true
   },
   "outputs": [],
   "source": [
    "# Extract all lines\n",
    "trow = html_to_xml.xpath('//tr') "
   ]
  },
  {
   "cell_type": "markdown",
   "metadata": {},
   "source": [
    "We check if all lines are the same length, if yes, they are from the same table."
   ]
  },
  {
   "cell_type": "code",
   "execution_count": 8,
   "metadata": {
    "scrolled": true
   },
   "outputs": [
    {
     "data": {
      "text/plain": [
       "[3, 3, 3, 3, 3, 3, 3, 3, 3, 3]"
      ]
     },
     "execution_count": 8,
     "metadata": {},
     "output_type": "execute_result"
    }
   ],
   "source": [
    "# Checks the length of lines\n",
    "[len(T) for T in trow[:10]]"
   ]
  },
  {
   "cell_type": "markdown",
   "metadata": {},
   "source": [
    "It is better to extract the table using the ** <tbody> ** tag, instead of the ** <tr> ** tag, as this way we extract the formatted table."
   ]
  },
  {
   "cell_type": "code",
   "execution_count": 9,
   "metadata": {},
   "outputs": [],
   "source": [
    "# Extracts the data from the table\n",
    "tr = html_to_xml.xpath('//tbody') "
   ]
  },
  {
   "cell_type": "code",
   "execution_count": 11,
   "metadata": {},
   "outputs": [
    {
     "data": {
      "text/plain": [
       "[<Element tbody at 0x18014e8d130>]"
      ]
     },
     "execution_count": 11,
     "metadata": {},
     "output_type": "execute_result"
    }
   ],
   "source": [
    "# Element type\n",
    "tr"
   ]
  },
  {
   "cell_type": "code",
   "execution_count": 12,
   "metadata": {},
   "outputs": [
    {
     "data": {
      "text/plain": [
       "50"
      ]
     },
     "execution_count": 12,
     "metadata": {},
     "output_type": "execute_result"
    }
   ],
   "source": [
    "# We check how many items we have in the table\n",
    "len(tr[0].getchildren())"
   ]
  },
  {
   "cell_type": "code",
   "execution_count": 13,
   "metadata": {},
   "outputs": [
    {
     "data": {
      "text/plain": [
       "50"
      ]
     },
     "execution_count": 13,
     "metadata": {},
     "output_type": "execute_result"
    }
   ],
   "source": [
    "# or \n",
    "tablebody = tr[0]\n",
    "len(tablebody)"
   ]
  },
  {
   "cell_type": "code",
   "execution_count": 14,
   "metadata": {},
   "outputs": [
    {
     "data": {
      "text/plain": [
       "'\\n\\t\\t\\t\\t\\t\\t\\tAfrican Elephant\\n\\t\\t\\t\\t\\t\\t\\tLoxodonta africana\\n\\t\\t\\t\\t\\t\\t\\tVulnerable\\n\\t\\t\\t\\t\\t\\t'"
      ]
     },
     "execution_count": 14,
     "metadata": {},
     "output_type": "execute_result"
    }
   ],
   "source": [
    "# Now let's get the text of 1 item in the table\n",
    "tablebody.getchildren()[0].text_content()"
   ]
  },
  {
   "cell_type": "markdown",
   "metadata": {},
   "source": [
    "We have 3 terms (3 columns). We can then use the code below to return each column of a table row, as an example."
   ]
  },
  {
   "cell_type": "code",
   "execution_count": 15,
   "metadata": {},
   "outputs": [
    {
     "data": {
      "text/plain": [
       "[<Element td at 0x18014edf3b0>,\n",
       " <Element td at 0x18014edf400>,\n",
       " <Element td at 0x18014edf090>]"
      ]
     },
     "execution_count": 15,
     "metadata": {},
     "output_type": "execute_result"
    }
   ],
   "source": [
    "# Extract columns from a row\n",
    "tablebody.getchildren()[0].getchildren()"
   ]
  },
  {
   "cell_type": "code",
   "execution_count": 16,
   "metadata": {},
   "outputs": [
    {
     "name": "stdout",
     "output_type": "stream",
     "text": [
      "African Elephant\n",
      "Loxodonta africana\n",
      "Vulnerable\n"
     ]
    }
   ],
   "source": [
    "# One print for each item\n",
    "print(tablebody.getchildren()[0].getchildren()[0].text_content())\n",
    "print(tablebody.getchildren()[0].getchildren()[1].text_content())\n",
    "print(tablebody.getchildren()[0].getchildren()[2].text_content())"
   ]
  },
  {
   "cell_type": "markdown",
   "metadata": {},
   "source": [
    "Let's take a sample of the data."
   ]
  },
  {
   "cell_type": "code",
   "execution_count": 17,
   "metadata": {
    "scrolled": true
   },
   "outputs": [],
   "source": [
    "# Data sample dictionary\n",
    "data_sample = {\"Common name\"         :[], \n",
    "               \"Scientific name\"     :[],\n",
    "               \"Conservation status\" :[]}"
   ]
  },
  {
   "cell_type": "code",
   "execution_count": 19,
   "metadata": {},
   "outputs": [],
   "source": [
    "# Loop through the table to extract a sample of data\n",
    "for row in tablebody.getchildren()[0:3]:\n",
    "    data_sample[\"Common name\"].append(row.getchildren()[0].text_content())\n",
    "    data_sample[\"Scientific name\"].append(row.getchildren()[1].text_content())\n",
    "    data_sample[\"Conservation status\"].append(row.getchildren()[2].text_content())"
   ]
  },
  {
   "cell_type": "code",
   "execution_count": 21,
   "metadata": {
    "scrolled": true
   },
   "outputs": [
    {
     "data": {
      "text/plain": [
       "{'Common name': ['African Elephant',\n",
       "  'African Wild Dog',\n",
       "  'Albacore Tuna',\n",
       "  'African Elephant',\n",
       "  'African Wild Dog',\n",
       "  'Albacore Tuna'],\n",
       " 'Scientific name': ['Loxodonta africana',\n",
       "  'Lycaon pictus',\n",
       "  'Thunnus alalunga',\n",
       "  'Loxodonta africana',\n",
       "  'Lycaon pictus',\n",
       "  'Thunnus alalunga'],\n",
       " 'Conservation status': ['Vulnerable',\n",
       "  'Endangered',\n",
       "  'Near Threatened',\n",
       "  'Vulnerable',\n",
       "  'Endangered',\n",
       "  'Near Threatened']}"
      ]
     },
     "execution_count": 21,
     "metadata": {},
     "output_type": "execute_result"
    }
   ],
   "source": [
    "# View sample data\n",
    "data_sample"
   ]
  },
  {
   "cell_type": "code",
   "execution_count": 22,
   "metadata": {},
   "outputs": [
    {
     "data": {
      "text/html": [
       "<div>\n",
       "<style scoped>\n",
       "    .dataframe tbody tr th:only-of-type {\n",
       "        vertical-align: middle;\n",
       "    }\n",
       "\n",
       "    .dataframe tbody tr th {\n",
       "        vertical-align: top;\n",
       "    }\n",
       "\n",
       "    .dataframe thead th {\n",
       "        text-align: right;\n",
       "    }\n",
       "</style>\n",
       "<table border=\"1\" class=\"dataframe\">\n",
       "  <thead>\n",
       "    <tr style=\"text-align: right;\">\n",
       "      <th></th>\n",
       "      <th>Common name</th>\n",
       "      <th>Scientific name</th>\n",
       "      <th>Conservation status</th>\n",
       "    </tr>\n",
       "  </thead>\n",
       "  <tbody>\n",
       "    <tr>\n",
       "      <th>0</th>\n",
       "      <td>African Elephant</td>\n",
       "      <td>Loxodonta africana</td>\n",
       "      <td>Vulnerable</td>\n",
       "    </tr>\n",
       "    <tr>\n",
       "      <th>1</th>\n",
       "      <td>African Wild Dog</td>\n",
       "      <td>Lycaon pictus</td>\n",
       "      <td>Endangered</td>\n",
       "    </tr>\n",
       "    <tr>\n",
       "      <th>2</th>\n",
       "      <td>Albacore Tuna</td>\n",
       "      <td>Thunnus alalunga</td>\n",
       "      <td>Near Threatened</td>\n",
       "    </tr>\n",
       "    <tr>\n",
       "      <th>3</th>\n",
       "      <td>African Elephant</td>\n",
       "      <td>Loxodonta africana</td>\n",
       "      <td>Vulnerable</td>\n",
       "    </tr>\n",
       "    <tr>\n",
       "      <th>4</th>\n",
       "      <td>African Wild Dog</td>\n",
       "      <td>Lycaon pictus</td>\n",
       "      <td>Endangered</td>\n",
       "    </tr>\n",
       "    <tr>\n",
       "      <th>5</th>\n",
       "      <td>Albacore Tuna</td>\n",
       "      <td>Thunnus alalunga</td>\n",
       "      <td>Near Threatened</td>\n",
       "    </tr>\n",
       "  </tbody>\n",
       "</table>\n",
       "</div>"
      ],
      "text/plain": [
       "        Common name     Scientific name Conservation status\n",
       "0  African Elephant  Loxodonta africana          Vulnerable\n",
       "1  African Wild Dog       Lycaon pictus          Endangered\n",
       "2     Albacore Tuna    Thunnus alalunga     Near Threatened\n",
       "3  African Elephant  Loxodonta africana          Vulnerable\n",
       "4  African Wild Dog       Lycaon pictus          Endangered\n",
       "5     Albacore Tuna    Thunnus alalunga     Near Threatened"
      ]
     },
     "execution_count": 22,
     "metadata": {},
     "output_type": "execute_result"
    }
   ],
   "source": [
    "# We convert the data sample (dictionary) to Pandas dataframe\n",
    "pd.DataFrame(data_sample)"
   ]
  },
  {
   "cell_type": "markdown",
   "metadata": {},
   "source": [
    "We now store all the data in the Python dictionary."
   ]
  },
  {
   "cell_type": "code",
   "execution_count": 23,
   "metadata": {},
   "outputs": [],
   "source": [
    "# Dictionary to receive all data\n",
    "data = {\"Common name\"         :[],\n",
    "        \"Scientific name\"     :[],\n",
    "        \"Conservation status\" :[]}"
   ]
  },
  {
   "cell_type": "code",
   "execution_count": 24,
   "metadata": {},
   "outputs": [],
   "source": [
    "# Loop to extract all data from the table\n",
    "for row in tablebody.getchildren():\n",
    "    data[\"Common name\"].append(row.getchildren()[0].text_content().strip())\n",
    "    data[\"Scientific name\"].append(row.getchildren()[1].text_content().strip())\n",
    "    data[\"Conservation status\"].append(row.getchildren()[2].text_content().strip())      "
   ]
  },
  {
   "cell_type": "code",
   "execution_count": 26,
   "metadata": {},
   "outputs": [
    {
     "data": {
      "text/html": [
       "<div>\n",
       "<style scoped>\n",
       "    .dataframe tbody tr th:only-of-type {\n",
       "        vertical-align: middle;\n",
       "    }\n",
       "\n",
       "    .dataframe tbody tr th {\n",
       "        vertical-align: top;\n",
       "    }\n",
       "\n",
       "    .dataframe thead th {\n",
       "        text-align: right;\n",
       "    }\n",
       "</style>\n",
       "<table border=\"1\" class=\"dataframe\">\n",
       "  <thead>\n",
       "    <tr style=\"text-align: right;\">\n",
       "      <th></th>\n",
       "      <th>Common name</th>\n",
       "      <th>Scientific name</th>\n",
       "      <th>Conservation status</th>\n",
       "    </tr>\n",
       "  </thead>\n",
       "  <tbody>\n",
       "    <tr>\n",
       "      <th>0</th>\n",
       "      <td>African Elephant</td>\n",
       "      <td>Loxodonta africana</td>\n",
       "      <td>Vulnerable</td>\n",
       "    </tr>\n",
       "    <tr>\n",
       "      <th>1</th>\n",
       "      <td>African Wild Dog</td>\n",
       "      <td>Lycaon pictus</td>\n",
       "      <td>Endangered</td>\n",
       "    </tr>\n",
       "    <tr>\n",
       "      <th>2</th>\n",
       "      <td>Albacore Tuna</td>\n",
       "      <td>Thunnus alalunga</td>\n",
       "      <td>Near Threatened</td>\n",
       "    </tr>\n",
       "    <tr>\n",
       "      <th>3</th>\n",
       "      <td>Amazon River Dolphin</td>\n",
       "      <td>Scientific Name Inia geoffrensis</td>\n",
       "      <td></td>\n",
       "    </tr>\n",
       "    <tr>\n",
       "      <th>4</th>\n",
       "      <td>Amur Leopard</td>\n",
       "      <td>Panthera pardus orientalis</td>\n",
       "      <td>Critically Endangered</td>\n",
       "    </tr>\n",
       "    <tr>\n",
       "      <th>5</th>\n",
       "      <td>Arctic Fox</td>\n",
       "      <td>Vulpes  lagopus</td>\n",
       "      <td>Least Concern</td>\n",
       "    </tr>\n",
       "    <tr>\n",
       "      <th>6</th>\n",
       "      <td>Arctic Wolf</td>\n",
       "      <td>Canis lupus arctos</td>\n",
       "      <td>Least Concern</td>\n",
       "    </tr>\n",
       "    <tr>\n",
       "      <th>7</th>\n",
       "      <td>Asian Elephant</td>\n",
       "      <td>Elephas maximus indicus</td>\n",
       "      <td>Endangered</td>\n",
       "    </tr>\n",
       "    <tr>\n",
       "      <th>8</th>\n",
       "      <td>Beluga</td>\n",
       "      <td>Delphinapterus leucas</td>\n",
       "      <td>Near Threatened</td>\n",
       "    </tr>\n",
       "    <tr>\n",
       "      <th>9</th>\n",
       "      <td>Bigeye Tuna</td>\n",
       "      <td>Thunnus obesus</td>\n",
       "      <td>Vulnerable</td>\n",
       "    </tr>\n",
       "  </tbody>\n",
       "</table>\n",
       "</div>"
      ],
      "text/plain": [
       "            Common name                   Scientific name  \\\n",
       "0      African Elephant                Loxodonta africana   \n",
       "1      African Wild Dog                     Lycaon pictus   \n",
       "2         Albacore Tuna                  Thunnus alalunga   \n",
       "3  Amazon River Dolphin  Scientific Name Inia geoffrensis   \n",
       "4          Amur Leopard        Panthera pardus orientalis   \n",
       "5            Arctic Fox                   Vulpes  lagopus   \n",
       "6           Arctic Wolf                Canis lupus arctos   \n",
       "7        Asian Elephant           Elephas maximus indicus   \n",
       "8                Beluga             Delphinapterus leucas   \n",
       "9           Bigeye Tuna                    Thunnus obesus   \n",
       "\n",
       "     Conservation status  \n",
       "0             Vulnerable  \n",
       "1             Endangered  \n",
       "2        Near Threatened  \n",
       "3                         \n",
       "4  Critically Endangered  \n",
       "5          Least Concern  \n",
       "6          Least Concern  \n",
       "7             Endangered  \n",
       "8        Near Threatened  \n",
       "9             Vulnerable  "
      ]
     },
     "execution_count": 26,
     "metadata": {},
     "output_type": "execute_result"
    }
   ],
   "source": [
    "# Convert to pandas dataframe and view\n",
    "pd.DataFrame(data).head(10)"
   ]
  },
  {
   "cell_type": "code",
   "execution_count": 29,
   "metadata": {},
   "outputs": [],
   "source": [
    "# We created the dataframe\n",
    "df = pd.DataFrame(data)   "
   ]
  },
  {
   "cell_type": "code",
   "execution_count": 30,
   "metadata": {},
   "outputs": [],
   "source": [
    "# We replace missing values with NaN\n",
    "df.replace('', np.nan, inplace = True)"
   ]
  },
  {
   "cell_type": "code",
   "execution_count": 31,
   "metadata": {},
   "outputs": [
    {
     "name": "stdout",
     "output_type": "stream",
     "text": [
      "('African Elephant', 'Loxodonta africana', 'Vulnerable')\n",
      "('African Wild Dog', 'Lycaon pictus', 'Endangered')\n",
      "('Albacore Tuna', 'Thunnus alalunga', 'Near Threatened')\n",
      "('Amazon River Dolphin', 'Scientific Name Inia geoffrensis', nan)\n",
      "('Amur Leopard', 'Panthera pardus orientalis', 'Critically Endangered')\n",
      "('Arctic Fox', 'Vulpes  lagopus', 'Least Concern')\n",
      "('Arctic Wolf', 'Canis lupus arctos', 'Least Concern')\n",
      "('Asian Elephant', 'Elephas maximus indicus', 'Endangered')\n",
      "('Beluga', 'Delphinapterus leucas', 'Near Threatened')\n",
      "('Bigeye Tuna', 'Thunnus obesus', 'Vulnerable')\n",
      "('Black Rhino', 'Diceros bicornis', 'Critically Endangered')\n",
      "('Black Spider Monkey', 'Ateles paniscus', 'Vulnerable')\n",
      "('Black-footed Ferret', 'Mustela nigripes', 'Endangered')\n",
      "('Blue Whale', 'Balaenoptera musculus', 'Endangered')\n",
      "('Bluefin Tuna', 'Thunnus Thynnus', 'Endangered')\n",
      "('Bonobo', 'Pan paniscus', 'Endangered')\n",
      "('Bornean Elephant', 'Elephas maximus borneensis', 'Endangered')\n",
      "('Bornean Orangutan', 'Pongo pygmaeus', 'Critically Endangered')\n",
      "('Bowhead Whale', 'Balaena mysticetus', 'Least Concern')\n",
      "('Brown Bear', 'Ursus arctos', 'Least Concern')\n",
      "('Chimpanzee', 'Pan troglodytes', 'Endangered')\n",
      "('Common Bottlenose Dolphin', 'Tursiops truncates', 'Least Concern')\n",
      "('Continental Tiger', 'Panthera tigris tigris', nan)\n",
      "('Cross River Gorilla', 'Gorilla gorilla diehli', 'Critically Endangered')\n",
      "('Dolphins and Porpoises', nan, nan)\n",
      "('Dugong', 'Dugong dugon', 'Vulnerable')\n",
      "('Eastern Lowland Gorilla', 'Gorilla beringei graueri', 'Critically Endangered')\n",
      "('Elephant', nan, nan)\n",
      "('Fin Whale', 'Balaenoptera physalus', 'Endangered')\n",
      "('Forest Elephant', nan, 'Vulnerable')\n",
      "('Galápagos Penguin', 'Spheniscus mendiculus', 'Endangered')\n",
      "('Ganges River Dolphin', 'Platanista gangetica gangetica', 'Endangered')\n",
      "('Giant Panda', 'Ailuropoda melanoleuca', 'Vulnerable')\n",
      "('Giant Tortoise', nan, 'Vulnerable')\n",
      "('Gorilla', 'Gorilla gorilla and Gorilla beringei', nan)\n",
      "('Gray Whale', 'Eschrichtius robustus', 'Least Concern')\n",
      "('Great White Shark', 'Carcharodon carcharias', 'Vulnerable')\n",
      "('Greater One-Horned Rhino', 'Rhinoceros unicornis', 'Vulnerable')\n",
      "('Greater Sage-Grouse', 'Centrocercus urophasianus', 'Near Threatened')\n",
      "('Green Turtle', 'Chelonia mydas', 'Endangered')\n",
      "('Hawksbill Turtle', 'Eretmochelys imbricata', 'Critically Endangered')\n",
      "(\"Hector's Dolphin\", 'Cephalorhynchus hectori', 'Endangered')\n",
      "('Hippopotamus', 'Hippopotamus amphibius', 'Vulnerable')\n",
      "('Humphead Wrasse', 'Cheilinus undulatus', 'Endangered')\n",
      "('Indian Elephant', 'Elephas maximus indicus', 'Endangered')\n",
      "('Indus River Dolphin', 'Platanista minor', 'Endangered')\n",
      "('Irrawaddy Dolphin', 'Orcaella brevirostris', 'Endangered')\n",
      "('Jaguar', 'Panthera onca', 'Near Threatened')\n",
      "('Javan Rhino', 'Rhinoceros sondaicus', 'Critically Endangered')\n",
      "('Leatherback Turtle', 'Dermochelys coriacea', 'Vulnerable')\n"
     ]
    }
   ],
   "source": [
    "# Iteration through items and screen printing\n",
    "for i in df.itertuples():\n",
    "    print(i[1:])"
   ]
  },
  {
   "cell_type": "markdown",
   "metadata": {},
   "source": [
    "\n",
    "## Storage in Database and SQL Language"
   ]
  },
  {
   "cell_type": "markdown",
   "metadata": {},
   "source": [
    "To use the sqlite3 module, you must first create a connection object that represents the database and, optionally, create a cursor object, which will assist you in executing all SQL statements.\n",
    "\n",
    "More in: https://www.sqlite.org/index.html"
   ]
  },
  {
   "cell_type": "code",
   "execution_count": 32,
   "metadata": {},
   "outputs": [],
   "source": [
    "# Creates connection to the sqlite database that will be created only in memory (does not save the database to disk)\n",
    "conn = sqlite3.connect(\":memory:\")"
   ]
  },
  {
   "cell_type": "code",
   "execution_count": 33,
   "metadata": {},
   "outputs": [],
   "source": [
    "# Create the cursor\n",
    "cursor = conn.cursor()"
   ]
  },
  {
   "cell_type": "code",
   "execution_count": 34,
   "metadata": {},
   "outputs": [],
   "source": [
    "# Creates the sql statement for creating a table in the database\n",
    "sql1 = \"\"\" CREATE TABLE SPECIES(Common_name PRIMARY KEY NOT NULL, Scientific_name, Conservation_status) \"\"\""
   ]
  },
  {
   "cell_type": "markdown",
   "metadata": {},
   "source": [
    "We use NOT NULL for the restrictions of not allowing NULL in the Common_name column records. A primary key column cannot have NULL values. The keyword PRIMARY in a relational database indicates that each row in the column is unique."
   ]
  },
  {
   "cell_type": "code",
   "execution_count": 36,
   "metadata": {},
   "outputs": [
    {
     "data": {
      "text/plain": [
       "<sqlite3.Cursor at 0x18014fda2d0>"
      ]
     },
     "execution_count": 36,
     "metadata": {},
     "output_type": "execute_result"
    }
   ],
   "source": [
    "# Executes the SQL statement\n",
    "cursor.execute(sql1)"
   ]
  },
  {
   "cell_type": "code",
   "execution_count": 37,
   "metadata": {},
   "outputs": [],
   "source": [
    "# Loop through data extracted from the web and insertion in the database table\n",
    "for rec in df.itertuples():\n",
    "    \n",
    "    # Instrução SQL de Insert\n",
    "    insert_table = \"\"\" INSERT INTO SPECIES(Common_name, Scientific_name, Conservation_status) VALUES (?,?,?) \"\"\"\n",
    "    \n",
    "    # Executa a instução\n",
    "    cursor.execute(insert_table, rec[1:5])"
   ]
  },
  {
   "cell_type": "code",
   "execution_count": 38,
   "metadata": {},
   "outputs": [],
   "source": [
    "# The commit writes the data to the database\n",
    "conn.commit()"
   ]
  },
  {
   "cell_type": "markdown",
   "metadata": {},
   "source": [
    "Vamos consultar os dados armazenados na tabela em memória."
   ]
  },
  {
   "cell_type": "code",
   "execution_count": 39,
   "metadata": {},
   "outputs": [],
   "source": [
    "# Create query to select the data in the database table\n",
    "query1 = \"\"\" SELECT * FROM SPECIES \"\"\""
   ]
  },
  {
   "cell_type": "code",
   "execution_count": 49,
   "metadata": {},
   "outputs": [],
   "source": [
    "# Run the query\n",
    "result1 = cursor.execute(query1)"
   ]
  },
  {
   "cell_type": "code",
   "execution_count": 50,
   "metadata": {},
   "outputs": [
    {
     "name": "stdout",
     "output_type": "stream",
     "text": [
      "Common_name =  African Elephant\n",
      "Scientific_name =  Loxodonta africana\n",
      "Conservation_status =  Vulnerable \n",
      "\n",
      "Common_name =  African Wild Dog\n",
      "Scientific_name =  Lycaon pictus\n",
      "Conservation_status =  Endangered \n",
      "\n",
      "Common_name =  Albacore Tuna\n",
      "Scientific_name =  Thunnus alalunga\n",
      "Conservation_status =  Near Threatened \n",
      "\n",
      "Common_name =  Amazon River Dolphin\n",
      "Scientific_name =  Scientific Name Inia geoffrensis\n",
      "Conservation_status =  None \n",
      "\n",
      "Common_name =  Amur Leopard\n",
      "Scientific_name =  Panthera pardus orientalis\n",
      "Conservation_status =  Critically Endangered \n",
      "\n",
      "Common_name =  Arctic Fox\n",
      "Scientific_name =  Vulpes  lagopus\n",
      "Conservation_status =  Least Concern \n",
      "\n",
      "Common_name =  Arctic Wolf\n",
      "Scientific_name =  Canis lupus arctos\n",
      "Conservation_status =  Least Concern \n",
      "\n",
      "Common_name =  Asian Elephant\n",
      "Scientific_name =  Elephas maximus indicus\n",
      "Conservation_status =  Endangered \n",
      "\n",
      "Common_name =  Beluga\n",
      "Scientific_name =  Delphinapterus leucas\n",
      "Conservation_status =  Near Threatened \n",
      "\n",
      "Common_name =  Bigeye Tuna\n",
      "Scientific_name =  Thunnus obesus\n",
      "Conservation_status =  Vulnerable \n",
      "\n",
      "Common_name =  Black Rhino\n",
      "Scientific_name =  Diceros bicornis\n",
      "Conservation_status =  Critically Endangered \n",
      "\n",
      "Common_name =  Black Spider Monkey\n",
      "Scientific_name =  Ateles paniscus\n",
      "Conservation_status =  Vulnerable \n",
      "\n",
      "Common_name =  Black-footed Ferret\n",
      "Scientific_name =  Mustela nigripes\n",
      "Conservation_status =  Endangered \n",
      "\n",
      "Common_name =  Blue Whale\n",
      "Scientific_name =  Balaenoptera musculus\n",
      "Conservation_status =  Endangered \n",
      "\n",
      "Common_name =  Bluefin Tuna\n",
      "Scientific_name =  Thunnus Thynnus\n",
      "Conservation_status =  Endangered \n",
      "\n",
      "Common_name =  Bonobo\n",
      "Scientific_name =  Pan paniscus\n",
      "Conservation_status =  Endangered \n",
      "\n",
      "Common_name =  Bornean Elephant\n",
      "Scientific_name =  Elephas maximus borneensis\n",
      "Conservation_status =  Endangered \n",
      "\n",
      "Common_name =  Bornean Orangutan\n",
      "Scientific_name =  Pongo pygmaeus\n",
      "Conservation_status =  Critically Endangered \n",
      "\n",
      "Common_name =  Bowhead Whale\n",
      "Scientific_name =  Balaena mysticetus\n",
      "Conservation_status =  Least Concern \n",
      "\n",
      "Common_name =  Brown Bear\n",
      "Scientific_name =  Ursus arctos\n",
      "Conservation_status =  Least Concern \n",
      "\n",
      "Common_name =  Chimpanzee\n",
      "Scientific_name =  Pan troglodytes\n",
      "Conservation_status =  Endangered \n",
      "\n",
      "Common_name =  Common Bottlenose Dolphin\n",
      "Scientific_name =  Tursiops truncates\n",
      "Conservation_status =  Least Concern \n",
      "\n",
      "Common_name =  Continental Tiger\n",
      "Scientific_name =  Panthera tigris tigris\n",
      "Conservation_status =  None \n",
      "\n",
      "Common_name =  Cross River Gorilla\n",
      "Scientific_name =  Gorilla gorilla diehli\n",
      "Conservation_status =  Critically Endangered \n",
      "\n",
      "Common_name =  Dolphins and Porpoises\n",
      "Scientific_name =  None\n",
      "Conservation_status =  None \n",
      "\n",
      "Common_name =  Dugong\n",
      "Scientific_name =  Dugong dugon\n",
      "Conservation_status =  Vulnerable \n",
      "\n",
      "Common_name =  Eastern Lowland Gorilla\n",
      "Scientific_name =  Gorilla beringei graueri\n",
      "Conservation_status =  Critically Endangered \n",
      "\n",
      "Common_name =  Elephant\n",
      "Scientific_name =  None\n",
      "Conservation_status =  None \n",
      "\n",
      "Common_name =  Fin Whale\n",
      "Scientific_name =  Balaenoptera physalus\n",
      "Conservation_status =  Endangered \n",
      "\n",
      "Common_name =  Forest Elephant\n",
      "Scientific_name =  None\n",
      "Conservation_status =  Vulnerable \n",
      "\n",
      "Common_name =  Galápagos Penguin\n",
      "Scientific_name =  Spheniscus mendiculus\n",
      "Conservation_status =  Endangered \n",
      "\n",
      "Common_name =  Ganges River Dolphin\n",
      "Scientific_name =  Platanista gangetica gangetica\n",
      "Conservation_status =  Endangered \n",
      "\n",
      "Common_name =  Giant Panda\n",
      "Scientific_name =  Ailuropoda melanoleuca\n",
      "Conservation_status =  Vulnerable \n",
      "\n",
      "Common_name =  Giant Tortoise\n",
      "Scientific_name =  None\n",
      "Conservation_status =  Vulnerable \n",
      "\n",
      "Common_name =  Gorilla\n",
      "Scientific_name =  Gorilla gorilla and Gorilla beringei\n",
      "Conservation_status =  None \n",
      "\n",
      "Common_name =  Gray Whale\n",
      "Scientific_name =  Eschrichtius robustus\n",
      "Conservation_status =  Least-Concern \n",
      "\n",
      "Common_name =  Great White Shark\n",
      "Scientific_name =  Carcharodon carcharias\n",
      "Conservation_status =  Vulnerable \n",
      "\n",
      "Common_name =  Greater One-Horned Rhino\n",
      "Scientific_name =  Rhinoceros unicornis\n",
      "Conservation_status =  Vulnerable \n",
      "\n",
      "Common_name =  Greater Sage-Grouse\n",
      "Scientific_name =  Centrocercus urophasianus\n",
      "Conservation_status =  Near Threatened \n",
      "\n",
      "Common_name =  Green Turtle\n",
      "Scientific_name =  Chelonia mydas\n",
      "Conservation_status =  Endangered \n",
      "\n",
      "Common_name =  Hawksbill Turtle\n",
      "Scientific_name =  Eretmochelys imbricata\n",
      "Conservation_status =  Critically Endangered \n",
      "\n",
      "Common_name =  Hector's Dolphin\n",
      "Scientific_name =  Cephalorhynchus hectori\n",
      "Conservation_status =  Endangered \n",
      "\n",
      "Common_name =  Hippopotamus\n",
      "Scientific_name =  Hippopotamus amphibius\n",
      "Conservation_status =  Vulnerable \n",
      "\n",
      "Common_name =  Humphead Wrasse\n",
      "Scientific_name =  Cheilinus undulatus\n",
      "Conservation_status =  Endangered \n",
      "\n",
      "Common_name =  Indian Elephant\n",
      "Scientific_name =  Elephas maximus indicus\n",
      "Conservation_status =  Endangered \n",
      "\n",
      "Common_name =  Indus River Dolphin\n",
      "Scientific_name =  Platanista minor\n",
      "Conservation_status =  Endangered \n",
      "\n",
      "Common_name =  Irrawaddy Dolphin\n",
      "Scientific_name =  Orcaella brevirostris\n",
      "Conservation_status =  Endangered \n",
      "\n",
      "Common_name =  Jaguar\n",
      "Scientific_name =  Panthera onca\n",
      "Conservation_status =  Near Threatened \n",
      "\n",
      "Common_name =  Javan Rhino\n",
      "Scientific_name =  Rhinoceros sondaicus\n",
      "Conservation_status =  Critically Endangered \n",
      "\n",
      "Common_name =  Leatherback Turtle\n",
      "Scientific_name =  Dermochelys coriacea\n",
      "Conservation_status =  Vulnerable \n",
      "\n"
     ]
    }
   ],
   "source": [
    "# Loop for returning the query and printing the data\n",
    "for row in result1:\n",
    "    print(\"Common_name = \", row[0])\n",
    "    print(\"Scientific_name = \", row[1])\n",
    "    print(\"Conservation_status = \", row[2],\"\\n\")\n",
    "conn.commit()"
   ]
  },
  {
   "cell_type": "markdown",
   "metadata": {},
   "source": [
    "We will now return specific data."
   ]
  },
  {
   "cell_type": "code",
   "execution_count": 42,
   "metadata": {},
   "outputs": [],
   "source": [
    "# Create query to select the data in the database table\n",
    "# Pay attention to the use of quotation marks\n",
    "\n",
    "query2 = \"\"\" SELECT * FROM SPECIES WHERE Conservation_status = \"Least Concern\" \"\"\""
   ]
  },
  {
   "cell_type": "code",
   "execution_count": 51,
   "metadata": {},
   "outputs": [],
   "source": [
    "# Run the query\n",
    "result2 = cursor.execute(query2)"
   ]
  },
  {
   "cell_type": "code",
   "execution_count": 52,
   "metadata": {},
   "outputs": [
    {
     "name": "stdout",
     "output_type": "stream",
     "text": [
      "Common_name =  Arctic Fox\n",
      "Scientific_name =  Vulpes  lagopus\n",
      "Conservation_status =  Least Concern \n",
      "\n",
      "Common_name =  Arctic Wolf\n",
      "Scientific_name =  Canis lupus arctos\n",
      "Conservation_status =  Least Concern \n",
      "\n",
      "Common_name =  Bowhead Whale\n",
      "Scientific_name =  Balaena mysticetus\n",
      "Conservation_status =  Least Concern \n",
      "\n",
      "Common_name =  Brown Bear\n",
      "Scientific_name =  Ursus arctos\n",
      "Conservation_status =  Least Concern \n",
      "\n",
      "Common_name =  Common Bottlenose Dolphin\n",
      "Scientific_name =  Tursiops truncates\n",
      "Conservation_status =  Least Concern \n",
      "\n"
     ]
    }
   ],
   "source": [
    "# Loop for returning the query and printing the data\n",
    "for row in result2:\n",
    "    print(\"Common_name = \", row[0])\n",
    "    print(\"Scientific_name = \", row[1])\n",
    "    print(\"Conservation_status = \", row[2],\"\\n\")\n",
    "conn.commit()"
   ]
  },
  {
   "cell_type": "markdown",
   "metadata": {},
   "source": [
    "Updating table values ​​in the database using Primary Key as a reference.\n",
    "\n",
    "Update, Insert and Delete statements are DML (Data Manipulation Language) statements in SQL language."
   ]
  },
  {
   "cell_type": "code",
   "execution_count": 45,
   "metadata": {},
   "outputs": [],
   "source": [
    "# Create query to update the data in the database table\n",
    "\n",
    "dml_1 = \"\"\" UPDATE SPECIES SET Conservation_status = \"Least-Concern\" WHERE Common_name = \"Gray Whale\" \"\"\""
   ]
  },
  {
   "cell_type": "code",
   "execution_count": 46,
   "metadata": {},
   "outputs": [],
   "source": [
    "# Run the Query\n",
    "cursor.execute(dml_1)\n",
    "conn.commit()"
   ]
  },
  {
   "cell_type": "code",
   "execution_count": 47,
   "metadata": {},
   "outputs": [],
   "source": [
    "# Create query to select the data in the database table\n",
    "\n",
    "query3 = \"\"\" SELECT * FROM SPECIES WHERE Conservation_status = \"Least-Concern\" \"\"\""
   ]
  },
  {
   "cell_type": "code",
   "execution_count": 54,
   "metadata": {},
   "outputs": [],
   "source": [
    "# Run the Query\n",
    "result3 = cursor.execute(query3)"
   ]
  },
  {
   "cell_type": "code",
   "execution_count": 55,
   "metadata": {},
   "outputs": [
    {
     "name": "stdout",
     "output_type": "stream",
     "text": [
      "Common_name =  Gray Whale\n",
      "Scientific_name =  Eschrichtius robustus\n",
      "Conservation_status =  Least-Concern \n",
      "\n"
     ]
    }
   ],
   "source": [
    "# Loop for returning the query and printing the data\n",
    "for row in result3:\n",
    "    print(\"Common_name = \", row[0])\n",
    "    print(\"Scientific_name = \", row[1])\n",
    "    print(\"Conservation_status = \", row[2],\"\\n\")\n",
    "conn.commit()"
   ]
  },
  {
   "cell_type": "markdown",
   "metadata": {},
   "source": [
    "Inserting data into the table in the database."
   ]
  },
  {
   "cell_type": "code",
   "execution_count": 56,
   "metadata": {},
   "outputs": [],
   "source": [
    "# Create query to insert the data into the database table\n",
    "\n",
    "dml_2 = \" INSERT INTO SPECIES(Common_name, Scientific_name, Conservation_status) \\\n",
    "          VALUES ('Cat', 'Felis catus', 'Important' ) \""
   ]
  },
  {
   "cell_type": "code",
   "execution_count": 57,
   "metadata": {},
   "outputs": [],
   "source": [
    "# Run the Query\n",
    "cursor.execute(dml_2)\n",
    "conn.commit()"
   ]
  },
  {
   "cell_type": "code",
   "execution_count": 62,
   "metadata": {},
   "outputs": [],
   "source": [
    "# Create query to select the data in the database table\n",
    "query4 = \"\"\" SELECT * FROM SPECIES WHERE Conservation_status = \"Important\" \"\"\""
   ]
  },
  {
   "cell_type": "code",
   "execution_count": 63,
   "metadata": {
    "scrolled": true
   },
   "outputs": [],
   "source": [
    "# Run the Query\n",
    "result4 = cursor.execute(query4)"
   ]
  },
  {
   "cell_type": "code",
   "execution_count": 64,
   "metadata": {},
   "outputs": [
    {
     "name": "stdout",
     "output_type": "stream",
     "text": [
      "Common_name =  Cat\n",
      "Scientific_name =  Felis catus\n",
      "Conservation_status =  Important \n",
      "\n"
     ]
    }
   ],
   "source": [
    "# Loop for returning the query and printing the data\n",
    "for row in result4:\n",
    "    print(\"Common_name = \", row[0])\n",
    "    print(\"Scientific_name = \", row[1])\n",
    "    print(\"Conservation_status = \", row[2],\"\\n\")\n",
    "conn.commit()"
   ]
  },
  {
   "cell_type": "markdown",
   "metadata": {},
   "source": [
    "Excluding the same data entered above."
   ]
  },
  {
   "cell_type": "code",
   "execution_count": 65,
   "metadata": {},
   "outputs": [],
   "source": [
    "# Create query to delete data in the database table\n",
    "\n",
    "dml_3 = \"\"\" DELETE from SPECIES where Common_name = \"Cat\" \"\"\""
   ]
  },
  {
   "cell_type": "code",
   "execution_count": 66,
   "metadata": {},
   "outputs": [],
   "source": [
    "# Run the Query\n",
    "cursor.execute(dml_3)\n",
    "conn.commit()"
   ]
  },
  {
   "cell_type": "code",
   "execution_count": 67,
   "metadata": {},
   "outputs": [],
   "source": [
    "# Create query to select the data in the database table\n",
    "query5 = \"\"\" SELECT * FROM SPECIES WHERE Common_name = \"Cat\" \"\"\""
   ]
  },
  {
   "cell_type": "code",
   "execution_count": 68,
   "metadata": {},
   "outputs": [],
   "source": [
    "# Run the Query\n",
    "result5 = cursor.execute(query5)"
   ]
  },
  {
   "cell_type": "code",
   "execution_count": 69,
   "metadata": {},
   "outputs": [],
   "source": [
    "# Loop pelo retorno da query e impressão dos dados\n",
    "for row in result5:\n",
    "    print(\"Common_name = \", row[0])\n",
    "    print(\"Scientific_name = \", row[1])\n",
    "    print(\"Conservation_status = \", row[2],\"\\n\")\n",
    "conn.commit()"
   ]
  },
  {
   "cell_type": "markdown",
   "metadata": {},
   "source": [
    "The database does not return any value, as it has no values ​​that we request."
   ]
  },
  {
   "cell_type": "code",
   "execution_count": 70,
   "metadata": {},
   "outputs": [],
   "source": [
    "# We closed the connection to the database\n",
    "conn.close()"
   ]
  }
 ],
 "metadata": {
  "kernelspec": {
   "display_name": "Python 3",
   "language": "python",
   "name": "python3"
  },
  "language_info": {
   "codemirror_mode": {
    "name": "ipython",
    "version": 3
   },
   "file_extension": ".py",
   "mimetype": "text/x-python",
   "name": "python",
   "nbconvert_exporter": "python",
   "pygments_lexer": "ipython3",
   "version": "3.8.3"
  }
 },
 "nbformat": 4,
 "nbformat_minor": 4
}
